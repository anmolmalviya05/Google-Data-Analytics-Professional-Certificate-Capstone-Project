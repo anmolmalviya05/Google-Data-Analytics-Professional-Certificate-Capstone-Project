{
 "cells": [
  {
   "cell_type": "markdown",
   "metadata": {},
   "source": [
    "# Google Data Analytics Professional Certificate : Capstone Project\n",
    "                                                                                           by:-Anmol Malviya"
   ]
  },
  {
   "cell_type": "markdown",
   "metadata": {},
   "source": [
    "# Introduction\n",
    "\n",
    "Welcome to the Cyclistic bike-share analysis case study! In this case study, I will perform real-world tasks of a junior\n",
    "data analyst. I will work for a fictional company, Cyclistic, a bike-share program based in Chicago. The program has over 5,800 bikes and 600 dock stations. The company’s marketing director is planning to maximize the number of Cyclistic members by creating marketing strategies to convert casual riders to annual member riders. Casual riders are customers that purchase single-ride or full-day passes. Cyclistic members are customers that purchase annual memberships. As a junior data analyst for Cyclistic, I was tasked to make data-driven recommendations for the marketing campaign.\n",
    "I will complete this analysis using the six phases of the data analysis process: \n",
    "Ask, Prepare, Process, Analyze, and Act "
   ]
  },
  {
   "cell_type": "markdown",
   "metadata": {},
   "source": [
    "# Brief Description Of Data Analysis Process\n",
    "1) **ASK**\n",
    "\n",
    "-Ask effective questions\n",
    "\n",
    "-Define the scope of the analysis\n",
    "\n",
    "-Define what success looks like\n",
    "\n",
    "2) **PREPARE**\n",
    "\n",
    "-Verify data’s integrity\n",
    "\n",
    "-Check data credibility and reliability\n",
    "\n",
    "-Check data types\n",
    "\n",
    "-Merge datasets\n",
    "\n",
    "\n",
    "3) **PROCESS**\n",
    "\n",
    "-Clean, Remove and Transform data\n",
    "\n",
    "-Document cleaning processes and results\n",
    "\n",
    "4) **ANALYZE**\n",
    "\n",
    "-Identify patterns\n",
    "\n",
    "-Draw conclusions\n",
    "\n",
    "-Make predictions\n",
    "\n",
    "5) **SHARE**\n",
    "\n",
    "-Create effective visuals\n",
    "\n",
    "-Create a story for data\n",
    "\n",
    "-Share insights to stakeholders\n",
    "\n",
    "6) **ACT**\n",
    "\n",
    "-Give recommendations based on insights\n",
    "\n",
    "-Solve problems\n",
    "\n",
    "-Create something new\n"
   ]
  },
  {
   "cell_type": "markdown",
   "metadata": {},
   "source": [
    "# Section-1 : ASK"
   ]
  },
  {
   "cell_type": "markdown",
   "metadata": {},
   "source": [
    "### What is the problem we are trying to solve?\n",
    "Business Objective: To maximize the number of annual memberships by converting casual riders to annual members.\n",
    "\n",
    "### Who are the stakeholders ?\n",
    "director(Lily Monero) & the Executive team\n",
    "\n",
    "### What are the stakeholders perspective ?\n",
    "Monero believes company’s future success depends on maximizing the number of annual memberships. She believes rather than creating a marketing campaign targeting all new customers, there is a very good chance to convert casual riders into members\n",
    "\n",
    "### Various Questions to Analyze:\n",
    "\n",
    "How do annual members and casual riders use Cyclistic bikes differently?\n",
    "\n",
    "Why would casual riders buy Cyclistic annual memberships?\n",
    "\n",
    "How can Cyclistic use digital media to influence casual riders to become members?"
   ]
  },
  {
   "cell_type": "markdown",
   "metadata": {},
   "source": [
    "# Section 2: PREPARE"
   ]
  },
  {
   "cell_type": "markdown",
   "metadata": {},
   "source": [
    "The dataset required for this business objective should be of the past 12 months.\n",
    "Here, we are considering data from July 2020 till June 2021.\n",
    "\n",
    "The data was made available by Motivate International Inc. under the appropriate license which ensures credibility of the data. This is public data that we can use to explore how different customer types are using Cyclistic bikes.\n",
    "\n",
    "As we had to consider only the data related to the past 12 months, I downloaded the csv files as per the requirement and stored it in a single folder so they are easier to access and work on.\n",
    "\n",
    "The data-privacy issues prohibit you from using riders’ personally identifiable information. This means that we won’t be able to connect pass purchases to credit card numbers to determine if casual riders live in the Cyclistic service area or if they have purchased multiple single passes. This ensures data integrity.\n",
    "\n",
    "Data can be downloaded from here\n",
    "Dataset - https://divvy-tripdata.s3.amazonaws.com/index.html"
   ]
  },
  {
   "cell_type": "markdown",
   "metadata": {},
   "source": [
    "# Section 3: PROCESS"
   ]
  },
  {
   "cell_type": "markdown",
   "metadata": {},
   "source": [
    "Here we will use python programming language for working on data as it is more accessible and easier to use.\n",
    "\n",
    "At the very first step we will import some useful libraries :-"
   ]
  },
  {
   "cell_type": "code",
   "execution_count": 1,
   "metadata": {},
   "outputs": [],
   "source": [
    "#Import libraries\n",
    "\n",
    "import pandas as pd\n",
    "import numpy as np\n",
    "import matplotlib.pyplot as plt\n",
    "import seaborn as sns\n",
    "import datetime"
   ]
  },
  {
   "cell_type": "markdown",
   "metadata": {},
   "source": [
    "### About the libraries\n",
    "\n",
    "1) Pandas - Pandas allows importing data from various file formats such as comma-separated values (CSV), JSON, SQL, Excel. Pandas allows various data manipulation operations such as merging, reshaping, selecting, as well as data cleaning, and data wrangling features.\n",
    "\n",
    "2) Numpy - It can be used to perform a number of mathematical operations like trigonometric, statistical, and algebraic on arrays.\n",
    "\n",
    "3) Matplotlib and Seaborn - It is used to create graphical analysis of the data.\n",
    "\n",
    "4) Datetime - These classes provide a number of functions to deal with dates, times and time intervals."
   ]
  },
  {
   "cell_type": "markdown",
   "metadata": {},
   "source": [
    "### Importing Dataset\n",
    "Now we will import the data files into the notebook. As we are working on the dataset of the past 12 months, we have one csv file per month. Therefore we have to import 12 files, convert them into a dataframe and merge them together in a single dataframe using Pandas."
   ]
  },
  {
   "cell_type": "code",
   "execution_count": 2,
   "metadata": {
    "executionInfo": {
     "elapsed": 26582,
     "status": "ok",
     "timestamp": 1629901287957,
     "user": {
      "displayName": "Pooja Mehta",
      "photoUrl": "https://lh3.googleusercontent.com/a-/AOh14GgyYC4Z21z3lv3B7ucXGY_5Q4zKBxx3R3ImdXJK=s64",
      "userId": "17458985435588857896"
     },
     "user_tz": -330
    },
    "id": "7oPbgGJEI906"
   },
   "outputs": [],
   "source": [
    "# Importing the files\n",
    "jul2020 = pd.read_csv('jul 2020.csv')\n",
    "aug2020 = pd.read_csv('aug 2020.csv')\n",
    "sep2020 = pd.read_csv('sep 2020.csv')\n",
    "oct2020 = pd.read_csv(\"oct 2020.csv\")\n",
    "nov2020 = pd.read_csv(\"nov 2020.csv\")\n",
    "dec2020 = pd.read_csv(\"dec 2020.csv\")\n",
    "jan2021 = pd.read_csv(\"jan2021.csv\")\n",
    "feb2021 = pd.read_csv(\"feb 2021.csv\")\n",
    "mar2021 = pd.read_csv(\"march 2021.csv\")\n",
    "apr2021 = pd.read_csv(\"april 2021.csv\")\n",
    "may2021 = pd.read_csv(\"may 2021.csv\")\n",
    "jun2021 = pd.read_csv(\"june 2021.csv\")"
   ]
  },
  {
   "cell_type": "code",
   "execution_count": 3,
   "metadata": {
    "executionInfo": {
     "elapsed": 1697,
     "status": "ok",
     "timestamp": 1629901289644,
     "user": {
      "displayName": "Pooja Mehta",
      "photoUrl": "https://lh3.googleusercontent.com/a-/AOh14GgyYC4Z21z3lv3B7ucXGY_5Q4zKBxx3R3ImdXJK=s64",
      "userId": "17458985435588857896"
     },
     "user_tz": -330
    },
    "id": "XMyxavK0L2Ay"
   },
   "outputs": [],
   "source": [
    "# Merging all the dataframes into a single dataframe.\n",
    "\n",
    "all_dfs = [jul2020,aug2020,sep2020,oct2020,nov2020,dec2020,jan2021,feb2021,mar2021,apr2021,may2021,jun2021]\n",
    "yearly_df = pd.concat(all_dfs)\n",
    "df = yearly_df"
   ]
  },
  {
   "cell_type": "markdown",
   "metadata": {},
   "source": [
    "lets take a quick look at data"
   ]
  },
  {
   "cell_type": "code",
   "execution_count": 4,
   "metadata": {
    "colab": {
     "base_uri": "https://localhost:8080/",
     "height": 773
    },
    "executionInfo": {
     "elapsed": 579,
     "status": "ok",
     "timestamp": 1629901290221,
     "user": {
      "displayName": "Pooja Mehta",
      "photoUrl": "https://lh3.googleusercontent.com/a-/AOh14GgyYC4Z21z3lv3B7ucXGY_5Q4zKBxx3R3ImdXJK=s64",
      "userId": "17458985435588857896"
     },
     "user_tz": -330
    },
    "id": "KWRRcSOWI907",
    "outputId": "1a2c57e5-b6c7-4173-b484-6b61ad037827"
   },
   "outputs": [
    {
     "data": {
      "text/html": [
       "<div>\n",
       "<style scoped>\n",
       "    .dataframe tbody tr th:only-of-type {\n",
       "        vertical-align: middle;\n",
       "    }\n",
       "\n",
       "    .dataframe tbody tr th {\n",
       "        vertical-align: top;\n",
       "    }\n",
       "\n",
       "    .dataframe thead th {\n",
       "        text-align: right;\n",
       "    }\n",
       "</style>\n",
       "<table border=\"1\" class=\"dataframe\">\n",
       "  <thead>\n",
       "    <tr style=\"text-align: right;\">\n",
       "      <th></th>\n",
       "      <th>ride_id</th>\n",
       "      <th>rideable_type</th>\n",
       "      <th>started_at</th>\n",
       "      <th>ended_at</th>\n",
       "      <th>start_station_name</th>\n",
       "      <th>start_station_id</th>\n",
       "      <th>end_station_name</th>\n",
       "      <th>end_station_id</th>\n",
       "      <th>start_lat</th>\n",
       "      <th>start_lng</th>\n",
       "      <th>end_lat</th>\n",
       "      <th>end_lng</th>\n",
       "      <th>member_casual</th>\n",
       "    </tr>\n",
       "  </thead>\n",
       "  <tbody>\n",
       "    <tr>\n",
       "      <th>0</th>\n",
       "      <td>762198876D69004D</td>\n",
       "      <td>docked_bike</td>\n",
       "      <td>2020-07-09 15:22:02</td>\n",
       "      <td>2020-07-09 15:25:52</td>\n",
       "      <td>Ritchie Ct &amp; Banks St</td>\n",
       "      <td>180.0</td>\n",
       "      <td>Wells St &amp; Evergreen Ave</td>\n",
       "      <td>291.0</td>\n",
       "      <td>41.906866</td>\n",
       "      <td>-87.626217</td>\n",
       "      <td>41.906724</td>\n",
       "      <td>-87.634830</td>\n",
       "      <td>member</td>\n",
       "    </tr>\n",
       "    <tr>\n",
       "      <th>1</th>\n",
       "      <td>BEC9C9FBA0D4CF1B</td>\n",
       "      <td>docked_bike</td>\n",
       "      <td>2020-07-24 23:56:30</td>\n",
       "      <td>2020-07-25 00:20:17</td>\n",
       "      <td>Halsted St &amp; Roscoe St</td>\n",
       "      <td>299.0</td>\n",
       "      <td>Broadway &amp; Ridge Ave</td>\n",
       "      <td>461.0</td>\n",
       "      <td>41.943670</td>\n",
       "      <td>-87.648950</td>\n",
       "      <td>41.984045</td>\n",
       "      <td>-87.660274</td>\n",
       "      <td>member</td>\n",
       "    </tr>\n",
       "    <tr>\n",
       "      <th>2</th>\n",
       "      <td>D2FD8EA432C77EC1</td>\n",
       "      <td>docked_bike</td>\n",
       "      <td>2020-07-08 19:49:07</td>\n",
       "      <td>2020-07-08 19:56:22</td>\n",
       "      <td>Lake Shore Dr &amp; Diversey Pkwy</td>\n",
       "      <td>329.0</td>\n",
       "      <td>Clark St &amp; Wellington Ave</td>\n",
       "      <td>156.0</td>\n",
       "      <td>41.932588</td>\n",
       "      <td>-87.636427</td>\n",
       "      <td>41.936497</td>\n",
       "      <td>-87.647539</td>\n",
       "      <td>casual</td>\n",
       "    </tr>\n",
       "    <tr>\n",
       "      <th>3</th>\n",
       "      <td>54AE594E20B35881</td>\n",
       "      <td>docked_bike</td>\n",
       "      <td>2020-07-17 19:06:42</td>\n",
       "      <td>2020-07-17 19:27:38</td>\n",
       "      <td>LaSalle St &amp; Illinois St</td>\n",
       "      <td>181.0</td>\n",
       "      <td>Clark St &amp; Armitage Ave</td>\n",
       "      <td>94.0</td>\n",
       "      <td>41.890762</td>\n",
       "      <td>-87.631697</td>\n",
       "      <td>41.918306</td>\n",
       "      <td>-87.636282</td>\n",
       "      <td>casual</td>\n",
       "    </tr>\n",
       "    <tr>\n",
       "      <th>4</th>\n",
       "      <td>54025FDC7440B56F</td>\n",
       "      <td>docked_bike</td>\n",
       "      <td>2020-07-04 10:39:57</td>\n",
       "      <td>2020-07-04 10:45:05</td>\n",
       "      <td>Lake Shore Dr &amp; North Blvd</td>\n",
       "      <td>268.0</td>\n",
       "      <td>Clark St &amp; Schiller St</td>\n",
       "      <td>301.0</td>\n",
       "      <td>41.911722</td>\n",
       "      <td>-87.626804</td>\n",
       "      <td>41.907993</td>\n",
       "      <td>-87.631501</td>\n",
       "      <td>member</td>\n",
       "    </tr>\n",
       "    <tr>\n",
       "      <th>...</th>\n",
       "      <td>...</td>\n",
       "      <td>...</td>\n",
       "      <td>...</td>\n",
       "      <td>...</td>\n",
       "      <td>...</td>\n",
       "      <td>...</td>\n",
       "      <td>...</td>\n",
       "      <td>...</td>\n",
       "      <td>...</td>\n",
       "      <td>...</td>\n",
       "      <td>...</td>\n",
       "      <td>...</td>\n",
       "      <td>...</td>\n",
       "    </tr>\n",
       "    <tr>\n",
       "      <th>729590</th>\n",
       "      <td>CB282292CCFCE74F</td>\n",
       "      <td>electric_bike</td>\n",
       "      <td>2021-06-14 00:17:31</td>\n",
       "      <td>2021-06-14 00:56:46</td>\n",
       "      <td>Wells St &amp; Polk St</td>\n",
       "      <td>SL-011</td>\n",
       "      <td>NaN</td>\n",
       "      <td>NaN</td>\n",
       "      <td>41.872412</td>\n",
       "      <td>-87.633715</td>\n",
       "      <td>41.880000</td>\n",
       "      <td>-87.620000</td>\n",
       "      <td>casual</td>\n",
       "    </tr>\n",
       "    <tr>\n",
       "      <th>729591</th>\n",
       "      <td>47BD346FAFB9BE6D</td>\n",
       "      <td>classic_bike</td>\n",
       "      <td>2021-06-30 17:35:10</td>\n",
       "      <td>2021-06-30 17:43:20</td>\n",
       "      <td>Clark St &amp; Chicago Ave</td>\n",
       "      <td>13303</td>\n",
       "      <td>Kingsbury St &amp; Kinzie St</td>\n",
       "      <td>KA1503000043</td>\n",
       "      <td>41.896750</td>\n",
       "      <td>-87.630890</td>\n",
       "      <td>41.889177</td>\n",
       "      <td>-87.638506</td>\n",
       "      <td>member</td>\n",
       "    </tr>\n",
       "    <tr>\n",
       "      <th>729592</th>\n",
       "      <td>52467C23D17C6AFE</td>\n",
       "      <td>classic_bike</td>\n",
       "      <td>2021-06-13 19:24:30</td>\n",
       "      <td>2021-06-13 19:34:11</td>\n",
       "      <td>Indiana Ave &amp; 26th St</td>\n",
       "      <td>TA1307000005</td>\n",
       "      <td>State St &amp; 19th St</td>\n",
       "      <td>SL-013</td>\n",
       "      <td>41.845687</td>\n",
       "      <td>-87.622481</td>\n",
       "      <td>41.856594</td>\n",
       "      <td>-87.627542</td>\n",
       "      <td>member</td>\n",
       "    </tr>\n",
       "    <tr>\n",
       "      <th>729593</th>\n",
       "      <td>7DF6D74420D7D9E6</td>\n",
       "      <td>electric_bike</td>\n",
       "      <td>2021-06-08 15:44:28</td>\n",
       "      <td>2021-06-08 16:15:01</td>\n",
       "      <td>Clark St &amp; Chicago Ave</td>\n",
       "      <td>13303</td>\n",
       "      <td>NaN</td>\n",
       "      <td>NaN</td>\n",
       "      <td>41.896485</td>\n",
       "      <td>-87.630608</td>\n",
       "      <td>41.940000</td>\n",
       "      <td>-87.710000</td>\n",
       "      <td>member</td>\n",
       "    </tr>\n",
       "    <tr>\n",
       "      <th>729594</th>\n",
       "      <td>0C01F8BA99E512E5</td>\n",
       "      <td>electric_bike</td>\n",
       "      <td>2021-06-03 16:18:38</td>\n",
       "      <td>2021-06-03 16:47:49</td>\n",
       "      <td>Clark St &amp; Chicago Ave</td>\n",
       "      <td>13303</td>\n",
       "      <td>NaN</td>\n",
       "      <td>NaN</td>\n",
       "      <td>41.896596</td>\n",
       "      <td>-87.630868</td>\n",
       "      <td>41.940000</td>\n",
       "      <td>-87.710000</td>\n",
       "      <td>member</td>\n",
       "    </tr>\n",
       "  </tbody>\n",
       "</table>\n",
       "<p>4460151 rows × 13 columns</p>\n",
       "</div>"
      ],
      "text/plain": [
       "                 ride_id  rideable_type           started_at  \\\n",
       "0       762198876D69004D    docked_bike  2020-07-09 15:22:02   \n",
       "1       BEC9C9FBA0D4CF1B    docked_bike  2020-07-24 23:56:30   \n",
       "2       D2FD8EA432C77EC1    docked_bike  2020-07-08 19:49:07   \n",
       "3       54AE594E20B35881    docked_bike  2020-07-17 19:06:42   \n",
       "4       54025FDC7440B56F    docked_bike  2020-07-04 10:39:57   \n",
       "...                  ...            ...                  ...   \n",
       "729590  CB282292CCFCE74F  electric_bike  2021-06-14 00:17:31   \n",
       "729591  47BD346FAFB9BE6D   classic_bike  2021-06-30 17:35:10   \n",
       "729592  52467C23D17C6AFE   classic_bike  2021-06-13 19:24:30   \n",
       "729593  7DF6D74420D7D9E6  electric_bike  2021-06-08 15:44:28   \n",
       "729594  0C01F8BA99E512E5  electric_bike  2021-06-03 16:18:38   \n",
       "\n",
       "                   ended_at             start_station_name start_station_id  \\\n",
       "0       2020-07-09 15:25:52          Ritchie Ct & Banks St            180.0   \n",
       "1       2020-07-25 00:20:17         Halsted St & Roscoe St            299.0   \n",
       "2       2020-07-08 19:56:22  Lake Shore Dr & Diversey Pkwy            329.0   \n",
       "3       2020-07-17 19:27:38       LaSalle St & Illinois St            181.0   \n",
       "4       2020-07-04 10:45:05     Lake Shore Dr & North Blvd            268.0   \n",
       "...                     ...                            ...              ...   \n",
       "729590  2021-06-14 00:56:46             Wells St & Polk St           SL-011   \n",
       "729591  2021-06-30 17:43:20         Clark St & Chicago Ave            13303   \n",
       "729592  2021-06-13 19:34:11          Indiana Ave & 26th St     TA1307000005   \n",
       "729593  2021-06-08 16:15:01         Clark St & Chicago Ave            13303   \n",
       "729594  2021-06-03 16:47:49         Clark St & Chicago Ave            13303   \n",
       "\n",
       "                 end_station_name end_station_id  start_lat  start_lng  \\\n",
       "0        Wells St & Evergreen Ave          291.0  41.906866 -87.626217   \n",
       "1            Broadway & Ridge Ave          461.0  41.943670 -87.648950   \n",
       "2       Clark St & Wellington Ave          156.0  41.932588 -87.636427   \n",
       "3         Clark St & Armitage Ave           94.0  41.890762 -87.631697   \n",
       "4          Clark St & Schiller St          301.0  41.911722 -87.626804   \n",
       "...                           ...            ...        ...        ...   \n",
       "729590                        NaN            NaN  41.872412 -87.633715   \n",
       "729591   Kingsbury St & Kinzie St   KA1503000043  41.896750 -87.630890   \n",
       "729592         State St & 19th St         SL-013  41.845687 -87.622481   \n",
       "729593                        NaN            NaN  41.896485 -87.630608   \n",
       "729594                        NaN            NaN  41.896596 -87.630868   \n",
       "\n",
       "          end_lat    end_lng member_casual  \n",
       "0       41.906724 -87.634830        member  \n",
       "1       41.984045 -87.660274        member  \n",
       "2       41.936497 -87.647539        casual  \n",
       "3       41.918306 -87.636282        casual  \n",
       "4       41.907993 -87.631501        member  \n",
       "...           ...        ...           ...  \n",
       "729590  41.880000 -87.620000        casual  \n",
       "729591  41.889177 -87.638506        member  \n",
       "729592  41.856594 -87.627542        member  \n",
       "729593  41.940000 -87.710000        member  \n",
       "729594  41.940000 -87.710000        member  \n",
       "\n",
       "[4460151 rows x 13 columns]"
      ]
     },
     "execution_count": 4,
     "metadata": {},
     "output_type": "execute_result"
    }
   ],
   "source": [
    "# Reading the merged file\n",
    "\n",
    "df"
   ]
  },
  {
   "cell_type": "markdown",
   "metadata": {},
   "source": [
    "Now We check the data type of all the columns present in the dataframe and convert the data type of columns as per our requirement."
   ]
  },
  {
   "cell_type": "code",
   "execution_count": 5,
   "metadata": {
    "colab": {
     "base_uri": "https://localhost:8080/"
    },
    "executionInfo": {
     "elapsed": 5,
     "status": "ok",
     "timestamp": 1629901290221,
     "user": {
      "displayName": "Pooja Mehta",
      "photoUrl": "https://lh3.googleusercontent.com/a-/AOh14GgyYC4Z21z3lv3B7ucXGY_5Q4zKBxx3R3ImdXJK=s64",
      "userId": "17458985435588857896"
     },
     "user_tz": -330
    },
    "id": "ub3G2PoQI908",
    "outputId": "76d62318-84c0-4b1a-fa29-4242c4e3f61d",
    "scrolled": true
   },
   "outputs": [
    {
     "data": {
      "text/plain": [
       "ride_id                object\n",
       "rideable_type          object\n",
       "started_at             object\n",
       "ended_at               object\n",
       "start_station_name     object\n",
       "start_station_id       object\n",
       "end_station_name       object\n",
       "end_station_id         object\n",
       "start_lat             float64\n",
       "start_lng             float64\n",
       "end_lat               float64\n",
       "end_lng               float64\n",
       "member_casual          object\n",
       "dtype: object"
      ]
     },
     "execution_count": 5,
     "metadata": {},
     "output_type": "execute_result"
    }
   ],
   "source": [
    "# To get information about the dataframe.\n",
    "df.dtypes"
   ]
  },
  {
   "cell_type": "markdown",
   "metadata": {},
   "source": [
    "Here we can see that the started_at and ended_at column, if subtracted from each other can give us information about the ride length. But to calculate the ride length for each trip, we must first convert the datatype of both the column into date and time format"
   ]
  },
  {
   "cell_type": "code",
   "execution_count": 8,
   "metadata": {
    "executionInfo": {
     "elapsed": 1117,
     "status": "ok",
     "timestamp": 1629901291997,
     "user": {
      "displayName": "Pooja Mehta",
      "photoUrl": "https://lh3.googleusercontent.com/a-/AOh14GgyYC4Z21z3lv3B7ucXGY_5Q4zKBxx3R3ImdXJK=s64",
      "userId": "17458985435588857896"
     },
     "user_tz": -330
    },
    "id": "cB-61AhGI909"
   },
   "outputs": [],
   "source": [
    "#To convert object data type of start_time and end_time columns into datetime data type\n",
    "df[\"start_time\"] = pd.to_datetime(df[\"started_at\"])\n",
    "df[\"end_time\"] = pd.to_datetime(df[\"ended_at\"])"
   ]
  },
  {
   "cell_type": "markdown",
   "metadata": {},
   "source": [
    "lets now calculate the ride length for each trip and add this info as a new column “ride_length” to the data frame"
   ]
  },
  {
   "cell_type": "code",
   "execution_count": 9,
   "metadata": {
    "colab": {
     "base_uri": "https://localhost:8080/"
    },
    "executionInfo": {
     "elapsed": 6,
     "status": "ok",
     "timestamp": 1629901291997,
     "user": {
      "displayName": "Pooja Mehta",
      "photoUrl": "https://lh3.googleusercontent.com/a-/AOh14GgyYC4Z21z3lv3B7ucXGY_5Q4zKBxx3R3ImdXJK=s64",
      "userId": "17458985435588857896"
     },
     "user_tz": -330
    },
    "id": "0YVRkPXqI909",
    "outputId": "b309fc62-3067-4bb6-a8f4-d46ab698ef54"
   },
   "outputs": [
    {
     "data": {
      "text/plain": [
       "0        0 days 00:03:50\n",
       "1        0 days 00:23:47\n",
       "2        0 days 00:07:15\n",
       "3        0 days 00:20:56\n",
       "4        0 days 00:05:08\n",
       "               ...      \n",
       "729590   0 days 00:39:15\n",
       "729591   0 days 00:08:10\n",
       "729592   0 days 00:09:41\n",
       "729593   0 days 00:30:33\n",
       "729594   0 days 00:29:11\n",
       "Name: ride_length, Length: 4460151, dtype: timedelta64[ns]"
      ]
     },
     "execution_count": 9,
     "metadata": {},
     "output_type": "execute_result"
    }
   ],
   "source": [
    "#Adding new column - ride_length (ended_at - started_at) to calculate the time travelled\n",
    "df[\"ride_length\"] = df[\"end_time\"] - df[\"start_time\"]\n",
    "df[\"ride_length\"]"
   ]
  },
  {
   "cell_type": "code",
   "execution_count": 10,
   "metadata": {
    "colab": {
     "base_uri": "https://localhost:8080/"
    },
    "executionInfo": {
     "elapsed": 2407,
     "status": "ok",
     "timestamp": 1629901294402,
     "user": {
      "displayName": "Pooja Mehta",
      "photoUrl": "https://lh3.googleusercontent.com/a-/AOh14GgyYC4Z21z3lv3B7ucXGY_5Q4zKBxx3R3ImdXJK=s64",
      "userId": "17458985435588857896"
     },
     "user_tz": -330
    },
    "id": "j-OKalSLI90_",
    "outputId": "cac17eee-2c10-4b1b-d6ff-2f4ff7b4c9d9"
   },
   "outputs": [],
   "source": [
    "# Splitting and extracting the date from \"started_at\" column\n",
    "\n",
    "df[['start_date1','start_time1']]=df['started_at'].astype(str).str.split(' ',n=1,expand=True)"
   ]
  },
  {
   "cell_type": "code",
   "execution_count": 11,
   "metadata": {},
   "outputs": [
    {
     "data": {
      "text/html": [
       "<div>\n",
       "<style scoped>\n",
       "    .dataframe tbody tr th:only-of-type {\n",
       "        vertical-align: middle;\n",
       "    }\n",
       "\n",
       "    .dataframe tbody tr th {\n",
       "        vertical-align: top;\n",
       "    }\n",
       "\n",
       "    .dataframe thead th {\n",
       "        text-align: right;\n",
       "    }\n",
       "</style>\n",
       "<table border=\"1\" class=\"dataframe\">\n",
       "  <thead>\n",
       "    <tr style=\"text-align: right;\">\n",
       "      <th></th>\n",
       "      <th>ride_id</th>\n",
       "      <th>rideable_type</th>\n",
       "      <th>started_at</th>\n",
       "      <th>ended_at</th>\n",
       "      <th>start_station_name</th>\n",
       "      <th>start_station_id</th>\n",
       "      <th>end_station_name</th>\n",
       "      <th>end_station_id</th>\n",
       "      <th>start_lat</th>\n",
       "      <th>start_lng</th>\n",
       "      <th>end_lat</th>\n",
       "      <th>end_lng</th>\n",
       "      <th>member_casual</th>\n",
       "      <th>start_time</th>\n",
       "      <th>end_time</th>\n",
       "      <th>ride_length</th>\n",
       "      <th>start_date1</th>\n",
       "      <th>start_time1</th>\n",
       "    </tr>\n",
       "  </thead>\n",
       "  <tbody>\n",
       "    <tr>\n",
       "      <th>0</th>\n",
       "      <td>762198876D69004D</td>\n",
       "      <td>docked_bike</td>\n",
       "      <td>2020-07-09 15:22:02</td>\n",
       "      <td>2020-07-09 15:25:52</td>\n",
       "      <td>Ritchie Ct &amp; Banks St</td>\n",
       "      <td>180.0</td>\n",
       "      <td>Wells St &amp; Evergreen Ave</td>\n",
       "      <td>291.0</td>\n",
       "      <td>41.906866</td>\n",
       "      <td>-87.626217</td>\n",
       "      <td>41.906724</td>\n",
       "      <td>-87.634830</td>\n",
       "      <td>member</td>\n",
       "      <td>2020-07-09 15:22:02</td>\n",
       "      <td>2020-07-09 15:25:52</td>\n",
       "      <td>0 days 00:03:50</td>\n",
       "      <td>2020-07-09</td>\n",
       "      <td>15:22:02</td>\n",
       "    </tr>\n",
       "    <tr>\n",
       "      <th>1</th>\n",
       "      <td>BEC9C9FBA0D4CF1B</td>\n",
       "      <td>docked_bike</td>\n",
       "      <td>2020-07-24 23:56:30</td>\n",
       "      <td>2020-07-25 00:20:17</td>\n",
       "      <td>Halsted St &amp; Roscoe St</td>\n",
       "      <td>299.0</td>\n",
       "      <td>Broadway &amp; Ridge Ave</td>\n",
       "      <td>461.0</td>\n",
       "      <td>41.943670</td>\n",
       "      <td>-87.648950</td>\n",
       "      <td>41.984045</td>\n",
       "      <td>-87.660274</td>\n",
       "      <td>member</td>\n",
       "      <td>2020-07-24 23:56:30</td>\n",
       "      <td>2020-07-25 00:20:17</td>\n",
       "      <td>0 days 00:23:47</td>\n",
       "      <td>2020-07-24</td>\n",
       "      <td>23:56:30</td>\n",
       "    </tr>\n",
       "    <tr>\n",
       "      <th>2</th>\n",
       "      <td>D2FD8EA432C77EC1</td>\n",
       "      <td>docked_bike</td>\n",
       "      <td>2020-07-08 19:49:07</td>\n",
       "      <td>2020-07-08 19:56:22</td>\n",
       "      <td>Lake Shore Dr &amp; Diversey Pkwy</td>\n",
       "      <td>329.0</td>\n",
       "      <td>Clark St &amp; Wellington Ave</td>\n",
       "      <td>156.0</td>\n",
       "      <td>41.932588</td>\n",
       "      <td>-87.636427</td>\n",
       "      <td>41.936497</td>\n",
       "      <td>-87.647539</td>\n",
       "      <td>casual</td>\n",
       "      <td>2020-07-08 19:49:07</td>\n",
       "      <td>2020-07-08 19:56:22</td>\n",
       "      <td>0 days 00:07:15</td>\n",
       "      <td>2020-07-08</td>\n",
       "      <td>19:49:07</td>\n",
       "    </tr>\n",
       "    <tr>\n",
       "      <th>3</th>\n",
       "      <td>54AE594E20B35881</td>\n",
       "      <td>docked_bike</td>\n",
       "      <td>2020-07-17 19:06:42</td>\n",
       "      <td>2020-07-17 19:27:38</td>\n",
       "      <td>LaSalle St &amp; Illinois St</td>\n",
       "      <td>181.0</td>\n",
       "      <td>Clark St &amp; Armitage Ave</td>\n",
       "      <td>94.0</td>\n",
       "      <td>41.890762</td>\n",
       "      <td>-87.631697</td>\n",
       "      <td>41.918306</td>\n",
       "      <td>-87.636282</td>\n",
       "      <td>casual</td>\n",
       "      <td>2020-07-17 19:06:42</td>\n",
       "      <td>2020-07-17 19:27:38</td>\n",
       "      <td>0 days 00:20:56</td>\n",
       "      <td>2020-07-17</td>\n",
       "      <td>19:06:42</td>\n",
       "    </tr>\n",
       "    <tr>\n",
       "      <th>4</th>\n",
       "      <td>54025FDC7440B56F</td>\n",
       "      <td>docked_bike</td>\n",
       "      <td>2020-07-04 10:39:57</td>\n",
       "      <td>2020-07-04 10:45:05</td>\n",
       "      <td>Lake Shore Dr &amp; North Blvd</td>\n",
       "      <td>268.0</td>\n",
       "      <td>Clark St &amp; Schiller St</td>\n",
       "      <td>301.0</td>\n",
       "      <td>41.911722</td>\n",
       "      <td>-87.626804</td>\n",
       "      <td>41.907993</td>\n",
       "      <td>-87.631501</td>\n",
       "      <td>member</td>\n",
       "      <td>2020-07-04 10:39:57</td>\n",
       "      <td>2020-07-04 10:45:05</td>\n",
       "      <td>0 days 00:05:08</td>\n",
       "      <td>2020-07-04</td>\n",
       "      <td>10:39:57</td>\n",
       "    </tr>\n",
       "  </tbody>\n",
       "</table>\n",
       "</div>"
      ],
      "text/plain": [
       "            ride_id rideable_type           started_at             ended_at  \\\n",
       "0  762198876D69004D   docked_bike  2020-07-09 15:22:02  2020-07-09 15:25:52   \n",
       "1  BEC9C9FBA0D4CF1B   docked_bike  2020-07-24 23:56:30  2020-07-25 00:20:17   \n",
       "2  D2FD8EA432C77EC1   docked_bike  2020-07-08 19:49:07  2020-07-08 19:56:22   \n",
       "3  54AE594E20B35881   docked_bike  2020-07-17 19:06:42  2020-07-17 19:27:38   \n",
       "4  54025FDC7440B56F   docked_bike  2020-07-04 10:39:57  2020-07-04 10:45:05   \n",
       "\n",
       "              start_station_name start_station_id           end_station_name  \\\n",
       "0          Ritchie Ct & Banks St            180.0   Wells St & Evergreen Ave   \n",
       "1         Halsted St & Roscoe St            299.0       Broadway & Ridge Ave   \n",
       "2  Lake Shore Dr & Diversey Pkwy            329.0  Clark St & Wellington Ave   \n",
       "3       LaSalle St & Illinois St            181.0    Clark St & Armitage Ave   \n",
       "4     Lake Shore Dr & North Blvd            268.0     Clark St & Schiller St   \n",
       "\n",
       "  end_station_id  start_lat  start_lng    end_lat    end_lng member_casual  \\\n",
       "0          291.0  41.906866 -87.626217  41.906724 -87.634830        member   \n",
       "1          461.0  41.943670 -87.648950  41.984045 -87.660274        member   \n",
       "2          156.0  41.932588 -87.636427  41.936497 -87.647539        casual   \n",
       "3           94.0  41.890762 -87.631697  41.918306 -87.636282        casual   \n",
       "4          301.0  41.911722 -87.626804  41.907993 -87.631501        member   \n",
       "\n",
       "           start_time            end_time     ride_length start_date1  \\\n",
       "0 2020-07-09 15:22:02 2020-07-09 15:25:52 0 days 00:03:50  2020-07-09   \n",
       "1 2020-07-24 23:56:30 2020-07-25 00:20:17 0 days 00:23:47  2020-07-24   \n",
       "2 2020-07-08 19:49:07 2020-07-08 19:56:22 0 days 00:07:15  2020-07-08   \n",
       "3 2020-07-17 19:06:42 2020-07-17 19:27:38 0 days 00:20:56  2020-07-17   \n",
       "4 2020-07-04 10:39:57 2020-07-04 10:45:05 0 days 00:05:08  2020-07-04   \n",
       "\n",
       "  start_time1  \n",
       "0    15:22:02  \n",
       "1    23:56:30  \n",
       "2    19:49:07  \n",
       "3    19:06:42  \n",
       "4    10:39:57  "
      ]
     },
     "execution_count": 11,
     "metadata": {},
     "output_type": "execute_result"
    }
   ],
   "source": [
    "df.head()"
   ]
  },
  {
   "cell_type": "markdown",
   "metadata": {},
   "source": [
    "Now we will convert it back to date and time format"
   ]
  },
  {
   "cell_type": "code",
   "execution_count": 12,
   "metadata": {
    "executionInfo": {
     "elapsed": 944,
     "status": "ok",
     "timestamp": 1629901295344,
     "user": {
      "displayName": "Pooja Mehta",
      "photoUrl": "https://lh3.googleusercontent.com/a-/AOh14GgyYC4Z21z3lv3B7ucXGY_5Q4zKBxx3R3ImdXJK=s64",
      "userId": "17458985435588857896"
     },
     "user_tz": -330
    },
    "id": "6dpaIXPSI91B"
   },
   "outputs": [],
   "source": [
    "# Converting start_date1 into datetime data type\n",
    "df[\"start_date1\"] = pd.to_datetime(df[\"start_date1\"])"
   ]
  },
  {
   "cell_type": "markdown",
   "metadata": {},
   "source": [
    "from the start_date1 we can find the week day 0 to 6 by apply weekday function through lambda function. \n",
    "\n",
    "A lambda function is a simple, short, throwaway function which is designed to be created inline in code. They’re also known as lambda expressions, anonymous functions, lambda abstractions, lambda form, or function literals"
   ]
  },
  {
   "cell_type": "code",
   "execution_count": 13,
   "metadata": {
    "colab": {
     "base_uri": "https://localhost:8080/"
    },
    "executionInfo": {
     "elapsed": 20769,
     "status": "ok",
     "timestamp": 1629901316112,
     "user": {
      "displayName": "Pooja Mehta",
      "photoUrl": "https://lh3.googleusercontent.com/a-/AOh14GgyYC4Z21z3lv3B7ucXGY_5Q4zKBxx3R3ImdXJK=s64",
      "userId": "17458985435588857896"
     },
     "user_tz": -330
    },
    "id": "vRd1_fRzI91D",
    "outputId": "5498c179-d35b-44c9-98b9-3a4b5e92798d"
   },
   "outputs": [
    {
     "data": {
      "text/plain": [
       "array([3, 4, 2, 5, 1, 0, 6], dtype=int64)"
      ]
     },
     "execution_count": 13,
     "metadata": {},
     "output_type": "execute_result"
    }
   ],
   "source": [
    "# Finding the weekday of the date\n",
    "df['week_day'] = df[\"start_date1\"].apply(lambda x: x.weekday())\n",
    "df['week_day'].unique()"
   ]
  },
  {
   "cell_type": "markdown",
   "metadata": {},
   "source": [
    "The output is array([3, 4, 2, 5, 1, 0, 6], dtype=int64) .\n",
    "\n",
    "We can also generate weekdays name column based on week day data. We will first create a dictionary"
   ]
  },
  {
   "cell_type": "code",
   "execution_count": 14,
   "metadata": {
    "colab": {
     "base_uri": "https://localhost:8080/"
    },
    "executionInfo": {
     "elapsed": 617,
     "status": "ok",
     "timestamp": 1629901316720,
     "user": {
      "displayName": "Pooja Mehta",
      "photoUrl": "https://lh3.googleusercontent.com/a-/AOh14GgyYC4Z21z3lv3B7ucXGY_5Q4zKBxx3R3ImdXJK=s64",
      "userId": "17458985435588857896"
     },
     "user_tz": -330
    },
    "id": "mNqTUNoCI91E",
    "outputId": "626f0d8e-138f-4361-cad2-fe6282159d35"
   },
   "outputs": [],
   "source": [
    "# Converting weekday values into weekday\n",
    "dict1 = {0: \"Sunday\", 1: \"Monday\", 2: \"Tuesday\", 3: \"Wednesday\", 4: \"Thursday\", 5: \"Friday\", 6: \"Saturday\"}"
   ]
  },
  {
   "cell_type": "markdown",
   "metadata": {},
   "source": [
    "Now we can apply lambda function again to create a weekday_name column in the data frame . Lambda function will take all the values from the weekday column into y and then put the associated dictionary value into the new column. for example if it finds 0 in the weekday column field it will add a value sunday in the weekday_name column into its corresponding field."
   ]
  },
  {
   "cell_type": "code",
   "execution_count": 15,
   "metadata": {},
   "outputs": [
    {
     "data": {
      "text/plain": [
       "0         Wednesday\n",
       "1          Thursday\n",
       "2           Tuesday\n",
       "3          Thursday\n",
       "4            Friday\n",
       "            ...    \n",
       "729590       Sunday\n",
       "729591      Tuesday\n",
       "729592     Saturday\n",
       "729593       Monday\n",
       "729594    Wednesday\n",
       "Name: week_day, Length: 4460151, dtype: object"
      ]
     },
     "execution_count": 15,
     "metadata": {},
     "output_type": "execute_result"
    }
   ],
   "source": [
    "df['week_day'] = df['week_day'].apply(lambda y: dict1[y])\n",
    "df['week_day']"
   ]
  },
  {
   "cell_type": "markdown",
   "metadata": {},
   "source": [
    "We can also extract the year and month from the start date and store the values in new columns."
   ]
  },
  {
   "cell_type": "code",
   "execution_count": 16,
   "metadata": {},
   "outputs": [],
   "source": [
    "df['year']=pd.DatetimeIndex(df['start_date1']).year\n",
    "df['month']=pd.DatetimeIndex(df['start_date1']).month"
   ]
  },
  {
   "cell_type": "markdown",
   "metadata": {},
   "source": [
    "The next step was to sort data in an ascending order by date."
   ]
  },
  {
   "cell_type": "code",
   "execution_count": 17,
   "metadata": {
    "executionInfo": {
     "elapsed": 12510,
     "status": "ok",
     "timestamp": 1629901329225,
     "user": {
      "displayName": "Pooja Mehta",
      "photoUrl": "https://lh3.googleusercontent.com/a-/AOh14GgyYC4Z21z3lv3B7ucXGY_5Q4zKBxx3R3ImdXJK=s64",
      "userId": "17458985435588857896"
     },
     "user_tz": -330
    },
    "id": "Gr2vhKh4I91E"
   },
   "outputs": [],
   "source": [
    "# To sort the dataframe by start date in ascending order\n",
    "df.sort_values(by=['started_at'], inplace=True, ascending=True)"
   ]
  },
  {
   "cell_type": "markdown",
   "metadata": {},
   "source": [
    "### Data Cleaning"
   ]
  },
  {
   "cell_type": "markdown",
   "metadata": {},
   "source": [
    "The most important step of the data cleaning process is to determine all the rows and columns with missing values.\n",
    "\n",
    "The next step is to check how we can populate the missing cells. But if the percentage of missing data is less than 3%, we can drop them without any major feedback crunch in our analysis.\n",
    "\n",
    "In this dataset, as the number of rows having missing values was just 0.1% of the total dataset, I dropped all those rows.\n",
    "\n",
    "If you have a large number of rows with missing values, you can fill in those values by substituting the cells based on exploratory analysis."
   ]
  },
  {
   "cell_type": "code",
   "execution_count": 18,
   "metadata": {
    "executionInfo": {
     "elapsed": 4796,
     "status": "ok",
     "timestamp": 1629901334013,
     "user": {
      "displayName": "Pooja Mehta",
      "photoUrl": "https://lh3.googleusercontent.com/a-/AOh14GgyYC4Z21z3lv3B7ucXGY_5Q4zKBxx3R3ImdXJK=s64",
      "userId": "17458985435588857896"
     },
     "user_tz": -330
    },
    "id": "gL-ET6DOI91E"
   },
   "outputs": [],
   "source": [
    "# Drop all rows with any NaN values\n",
    "df_cleaned = df.dropna()"
   ]
  },
  {
   "cell_type": "code",
   "execution_count": 17,
   "metadata": {
    "executionInfo": {
     "elapsed": 136869,
     "status": "ok",
     "timestamp": 1629901470872,
     "user": {
      "displayName": "Pooja Mehta",
      "photoUrl": "https://lh3.googleusercontent.com/a-/AOh14GgyYC4Z21z3lv3B7ucXGY_5Q4zKBxx3R3ImdXJK=s64",
      "userId": "17458985435588857896"
     },
     "user_tz": -330
    },
    "id": "0PeSQzBhI91F"
   },
   "outputs": [],
   "source": [
    "# To save the cleaned file for further transformation of data\n",
    "df_cleaned.to_csv('cleaned.csv')"
   ]
  },
  {
   "cell_type": "code",
   "execution_count": 19,
   "metadata": {
    "colab": {
     "base_uri": "https://localhost:8080/"
    },
    "executionInfo": {
     "elapsed": 24001,
     "status": "ok",
     "timestamp": 1629901494864,
     "user": {
      "displayName": "Pooja Mehta",
      "photoUrl": "https://lh3.googleusercontent.com/a-/AOh14GgyYC4Z21z3lv3B7ucXGY_5Q4zKBxx3R3ImdXJK=s64",
      "userId": "17458985435588857896"
     },
     "user_tz": -330
    },
    "id": "dCSUskYWI91F",
    "outputId": "2edae69f-bddb-4a3d-d582-8744d527fe23"
   },
   "outputs": [
    {
     "name": "stderr",
     "output_type": "stream",
     "text": [
      "C:\\Users\\anmol\\anaconda3\\lib\\site-packages\\IPython\\core\\interactiveshell.py:3165: DtypeWarning: Columns (6,8) have mixed types.Specify dtype option on import or set low_memory=False.\n",
      "  has_raised = await self.run_ast_nodes(code_ast.body, cell_name,\n"
     ]
    }
   ],
   "source": [
    "# To import the cleaned data file\n",
    "final_df = pd.read_csv(\"cleaned.csv\")"
   ]
  },
  {
   "cell_type": "code",
   "execution_count": 20,
   "metadata": {
    "colab": {
     "base_uri": "https://localhost:8080/",
     "height": 790
    },
    "executionInfo": {
     "elapsed": 586,
     "status": "ok",
     "timestamp": 1629901495440,
     "user": {
      "displayName": "Pooja Mehta",
      "photoUrl": "https://lh3.googleusercontent.com/a-/AOh14GgyYC4Z21z3lv3B7ucXGY_5Q4zKBxx3R3ImdXJK=s64",
      "userId": "17458985435588857896"
     },
     "user_tz": -330
    },
    "id": "U94r39CsI91F",
    "outputId": "b0b47f04-91a2-439c-94f3-a44a81e950f4"
   },
   "outputs": [
    {
     "data": {
      "text/html": [
       "<div>\n",
       "<style scoped>\n",
       "    .dataframe tbody tr th:only-of-type {\n",
       "        vertical-align: middle;\n",
       "    }\n",
       "\n",
       "    .dataframe tbody tr th {\n",
       "        vertical-align: top;\n",
       "    }\n",
       "\n",
       "    .dataframe thead th {\n",
       "        text-align: right;\n",
       "    }\n",
       "</style>\n",
       "<table border=\"1\" class=\"dataframe\">\n",
       "  <thead>\n",
       "    <tr style=\"text-align: right;\">\n",
       "      <th></th>\n",
       "      <th>Unnamed: 0</th>\n",
       "      <th>ride_id</th>\n",
       "      <th>rideable_type</th>\n",
       "      <th>started_at</th>\n",
       "      <th>ended_at</th>\n",
       "      <th>start_station_name</th>\n",
       "      <th>start_station_id</th>\n",
       "      <th>end_station_name</th>\n",
       "      <th>end_station_id</th>\n",
       "      <th>start_lat</th>\n",
       "      <th>...</th>\n",
       "      <th>end_lng</th>\n",
       "      <th>member_casual</th>\n",
       "      <th>start_time</th>\n",
       "      <th>end_time</th>\n",
       "      <th>ride_length</th>\n",
       "      <th>start_date1</th>\n",
       "      <th>start_time1</th>\n",
       "      <th>week_day</th>\n",
       "      <th>year</th>\n",
       "      <th>month</th>\n",
       "    </tr>\n",
       "  </thead>\n",
       "  <tbody>\n",
       "    <tr>\n",
       "      <th>0</th>\n",
       "      <td>275150</td>\n",
       "      <td>C66CC4DD911DDFBD</td>\n",
       "      <td>docked_bike</td>\n",
       "      <td>2020-07-01 00:00:14</td>\n",
       "      <td>2020-07-01 01:28:12</td>\n",
       "      <td>Buckingham Fountain</td>\n",
       "      <td>2.0</td>\n",
       "      <td>Buckingham Fountain</td>\n",
       "      <td>2.0</td>\n",
       "      <td>41.876511</td>\n",
       "      <td>...</td>\n",
       "      <td>-87.620548</td>\n",
       "      <td>casual</td>\n",
       "      <td>2020-07-01 00:00:14</td>\n",
       "      <td>2020-07-01 01:28:12</td>\n",
       "      <td>0 days 01:27:58</td>\n",
       "      <td>2020-07-01 00:00:00</td>\n",
       "      <td>00:00:14</td>\n",
       "      <td>Tuesday</td>\n",
       "      <td>2020</td>\n",
       "      <td>7</td>\n",
       "    </tr>\n",
       "    <tr>\n",
       "      <th>1</th>\n",
       "      <td>259045</td>\n",
       "      <td>BD6363747C00FAD3</td>\n",
       "      <td>docked_bike</td>\n",
       "      <td>2020-07-01 00:00:15</td>\n",
       "      <td>2020-07-01 02:44:58</td>\n",
       "      <td>Wells St &amp; Concord Ln</td>\n",
       "      <td>289.0</td>\n",
       "      <td>Clark St &amp; Lake St</td>\n",
       "      <td>38.0</td>\n",
       "      <td>41.912133</td>\n",
       "      <td>...</td>\n",
       "      <td>-87.630876</td>\n",
       "      <td>casual</td>\n",
       "      <td>2020-07-01 00:00:15</td>\n",
       "      <td>2020-07-01 02:44:58</td>\n",
       "      <td>0 days 02:44:43</td>\n",
       "      <td>2020-07-01 00:00:00</td>\n",
       "      <td>00:00:15</td>\n",
       "      <td>Tuesday</td>\n",
       "      <td>2020</td>\n",
       "      <td>7</td>\n",
       "    </tr>\n",
       "    <tr>\n",
       "      <th>2</th>\n",
       "      <td>236929</td>\n",
       "      <td>1856297CBD809E60</td>\n",
       "      <td>docked_bike</td>\n",
       "      <td>2020-07-01 00:00:49</td>\n",
       "      <td>2020-07-01 00:45:04</td>\n",
       "      <td>Wabash Ave &amp; Wacker Pl</td>\n",
       "      <td>194.0</td>\n",
       "      <td>Wabash Ave &amp; Wacker Pl</td>\n",
       "      <td>194.0</td>\n",
       "      <td>41.886875</td>\n",
       "      <td>...</td>\n",
       "      <td>-87.626030</td>\n",
       "      <td>casual</td>\n",
       "      <td>2020-07-01 00:00:49</td>\n",
       "      <td>2020-07-01 00:45:04</td>\n",
       "      <td>0 days 00:44:15</td>\n",
       "      <td>2020-07-01 00:00:00</td>\n",
       "      <td>00:00:49</td>\n",
       "      <td>Tuesday</td>\n",
       "      <td>2020</td>\n",
       "      <td>7</td>\n",
       "    </tr>\n",
       "    <tr>\n",
       "      <th>3</th>\n",
       "      <td>217019</td>\n",
       "      <td>06B27D89815F5031</td>\n",
       "      <td>docked_bike</td>\n",
       "      <td>2020-07-01 00:00:50</td>\n",
       "      <td>2020-07-01 02:52:16</td>\n",
       "      <td>Wells St &amp; Concord Ln</td>\n",
       "      <td>289.0</td>\n",
       "      <td>Clark St &amp; Lake St</td>\n",
       "      <td>38.0</td>\n",
       "      <td>41.912133</td>\n",
       "      <td>...</td>\n",
       "      <td>-87.630876</td>\n",
       "      <td>casual</td>\n",
       "      <td>2020-07-01 00:00:50</td>\n",
       "      <td>2020-07-01 02:52:16</td>\n",
       "      <td>0 days 02:51:26</td>\n",
       "      <td>2020-07-01 00:00:00</td>\n",
       "      <td>00:00:50</td>\n",
       "      <td>Tuesday</td>\n",
       "      <td>2020</td>\n",
       "      <td>7</td>\n",
       "    </tr>\n",
       "    <tr>\n",
       "      <th>4</th>\n",
       "      <td>195188</td>\n",
       "      <td>7F17B8FF6F418A7F</td>\n",
       "      <td>docked_bike</td>\n",
       "      <td>2020-07-01 00:01:11</td>\n",
       "      <td>2020-07-01 00:08:03</td>\n",
       "      <td>State St &amp; 33rd St</td>\n",
       "      <td>148.0</td>\n",
       "      <td>MLK Jr Dr &amp; 29th St</td>\n",
       "      <td>237.0</td>\n",
       "      <td>41.834734</td>\n",
       "      <td>...</td>\n",
       "      <td>-87.617000</td>\n",
       "      <td>member</td>\n",
       "      <td>2020-07-01 00:01:11</td>\n",
       "      <td>2020-07-01 00:08:03</td>\n",
       "      <td>0 days 00:06:52</td>\n",
       "      <td>2020-07-01 00:00:00</td>\n",
       "      <td>00:01:11</td>\n",
       "      <td>Tuesday</td>\n",
       "      <td>2020</td>\n",
       "      <td>7</td>\n",
       "    </tr>\n",
       "    <tr>\n",
       "      <th>...</th>\n",
       "      <td>...</td>\n",
       "      <td>...</td>\n",
       "      <td>...</td>\n",
       "      <td>...</td>\n",
       "      <td>...</td>\n",
       "      <td>...</td>\n",
       "      <td>...</td>\n",
       "      <td>...</td>\n",
       "      <td>...</td>\n",
       "      <td>...</td>\n",
       "      <td>...</td>\n",
       "      <td>...</td>\n",
       "      <td>...</td>\n",
       "      <td>...</td>\n",
       "      <td>...</td>\n",
       "      <td>...</td>\n",
       "      <td>...</td>\n",
       "      <td>...</td>\n",
       "      <td>...</td>\n",
       "      <td>...</td>\n",
       "      <td>...</td>\n",
       "    </tr>\n",
       "    <tr>\n",
       "      <th>4025498</th>\n",
       "      <td>675978</td>\n",
       "      <td>E25F3A2D6AF8F001</td>\n",
       "      <td>classic_bike</td>\n",
       "      <td>2021-06-30 23:59:15</td>\n",
       "      <td>2021-07-01 00:06:09</td>\n",
       "      <td>Calumet Ave &amp; 18th St</td>\n",
       "      <td>13102</td>\n",
       "      <td>Wabash Ave &amp; Roosevelt Rd</td>\n",
       "      <td>TA1305000002</td>\n",
       "      <td>41.857611</td>\n",
       "      <td>...</td>\n",
       "      <td>-87.625961</td>\n",
       "      <td>casual</td>\n",
       "      <td>2021-06-30 23:59:15</td>\n",
       "      <td>2021-07-01 00:06:09</td>\n",
       "      <td>0 days 00:06:54</td>\n",
       "      <td>2021-06-30 00:00:00</td>\n",
       "      <td>23:59:15</td>\n",
       "      <td>Tuesday</td>\n",
       "      <td>2021</td>\n",
       "      <td>6</td>\n",
       "    </tr>\n",
       "    <tr>\n",
       "      <th>4025499</th>\n",
       "      <td>582358</td>\n",
       "      <td>F67C4ACB3CCEC518</td>\n",
       "      <td>classic_bike</td>\n",
       "      <td>2021-06-30 23:59:16</td>\n",
       "      <td>2021-07-01 00:04:21</td>\n",
       "      <td>Ashland Ave &amp; Chicago Ave</td>\n",
       "      <td>13247</td>\n",
       "      <td>Damen Ave &amp; Thomas St (Augusta Blvd)</td>\n",
       "      <td>TA1307000070</td>\n",
       "      <td>41.895966</td>\n",
       "      <td>...</td>\n",
       "      <td>-87.677409</td>\n",
       "      <td>casual</td>\n",
       "      <td>2021-06-30 23:59:16</td>\n",
       "      <td>2021-07-01 00:04:21</td>\n",
       "      <td>0 days 00:05:05</td>\n",
       "      <td>2021-06-30 00:00:00</td>\n",
       "      <td>23:59:16</td>\n",
       "      <td>Tuesday</td>\n",
       "      <td>2021</td>\n",
       "      <td>6</td>\n",
       "    </tr>\n",
       "    <tr>\n",
       "      <th>4025500</th>\n",
       "      <td>16931</td>\n",
       "      <td>B6A748160720820F</td>\n",
       "      <td>classic_bike</td>\n",
       "      <td>2021-06-30 23:59:26</td>\n",
       "      <td>2021-07-01 00:06:11</td>\n",
       "      <td>Calumet Ave &amp; 18th St</td>\n",
       "      <td>13102</td>\n",
       "      <td>Wabash Ave &amp; Roosevelt Rd</td>\n",
       "      <td>TA1305000002</td>\n",
       "      <td>41.857611</td>\n",
       "      <td>...</td>\n",
       "      <td>-87.625961</td>\n",
       "      <td>member</td>\n",
       "      <td>2021-06-30 23:59:26</td>\n",
       "      <td>2021-07-01 00:06:11</td>\n",
       "      <td>0 days 00:06:45</td>\n",
       "      <td>2021-06-30 00:00:00</td>\n",
       "      <td>23:59:26</td>\n",
       "      <td>Tuesday</td>\n",
       "      <td>2021</td>\n",
       "      <td>6</td>\n",
       "    </tr>\n",
       "    <tr>\n",
       "      <th>4025501</th>\n",
       "      <td>626434</td>\n",
       "      <td>5F69DFB0122DC3D8</td>\n",
       "      <td>classic_bike</td>\n",
       "      <td>2021-06-30 23:59:35</td>\n",
       "      <td>2021-07-01 00:27:54</td>\n",
       "      <td>Michigan Ave &amp; Lake St</td>\n",
       "      <td>TA1305000011</td>\n",
       "      <td>Wabash Ave &amp; Wacker Pl</td>\n",
       "      <td>TA1307000131</td>\n",
       "      <td>41.886024</td>\n",
       "      <td>...</td>\n",
       "      <td>-87.626030</td>\n",
       "      <td>casual</td>\n",
       "      <td>2021-06-30 23:59:35</td>\n",
       "      <td>2021-07-01 00:27:54</td>\n",
       "      <td>0 days 00:28:19</td>\n",
       "      <td>2021-06-30 00:00:00</td>\n",
       "      <td>23:59:35</td>\n",
       "      <td>Tuesday</td>\n",
       "      <td>2021</td>\n",
       "      <td>6</td>\n",
       "    </tr>\n",
       "    <tr>\n",
       "      <th>4025502</th>\n",
       "      <td>156646</td>\n",
       "      <td>428577054CA0238A</td>\n",
       "      <td>classic_bike</td>\n",
       "      <td>2021-06-30 23:59:59</td>\n",
       "      <td>2021-07-01 00:36:07</td>\n",
       "      <td>Wabash Ave &amp; Cermak Rd</td>\n",
       "      <td>TA1305000001</td>\n",
       "      <td>Sedgwick St &amp; Webster Ave</td>\n",
       "      <td>13191</td>\n",
       "      <td>41.852619</td>\n",
       "      <td>...</td>\n",
       "      <td>-87.638888</td>\n",
       "      <td>member</td>\n",
       "      <td>2021-06-30 23:59:59</td>\n",
       "      <td>2021-07-01 00:36:07</td>\n",
       "      <td>0 days 00:36:08</td>\n",
       "      <td>2021-06-30 00:00:00</td>\n",
       "      <td>23:59:59</td>\n",
       "      <td>Tuesday</td>\n",
       "      <td>2021</td>\n",
       "      <td>6</td>\n",
       "    </tr>\n",
       "  </tbody>\n",
       "</table>\n",
       "<p>4025503 rows × 22 columns</p>\n",
       "</div>"
      ],
      "text/plain": [
       "         Unnamed: 0           ride_id rideable_type           started_at  \\\n",
       "0            275150  C66CC4DD911DDFBD   docked_bike  2020-07-01 00:00:14   \n",
       "1            259045  BD6363747C00FAD3   docked_bike  2020-07-01 00:00:15   \n",
       "2            236929  1856297CBD809E60   docked_bike  2020-07-01 00:00:49   \n",
       "3            217019  06B27D89815F5031   docked_bike  2020-07-01 00:00:50   \n",
       "4            195188  7F17B8FF6F418A7F   docked_bike  2020-07-01 00:01:11   \n",
       "...             ...               ...           ...                  ...   \n",
       "4025498      675978  E25F3A2D6AF8F001  classic_bike  2021-06-30 23:59:15   \n",
       "4025499      582358  F67C4ACB3CCEC518  classic_bike  2021-06-30 23:59:16   \n",
       "4025500       16931  B6A748160720820F  classic_bike  2021-06-30 23:59:26   \n",
       "4025501      626434  5F69DFB0122DC3D8  classic_bike  2021-06-30 23:59:35   \n",
       "4025502      156646  428577054CA0238A  classic_bike  2021-06-30 23:59:59   \n",
       "\n",
       "                    ended_at         start_station_name start_station_id  \\\n",
       "0        2020-07-01 01:28:12        Buckingham Fountain              2.0   \n",
       "1        2020-07-01 02:44:58      Wells St & Concord Ln            289.0   \n",
       "2        2020-07-01 00:45:04     Wabash Ave & Wacker Pl            194.0   \n",
       "3        2020-07-01 02:52:16      Wells St & Concord Ln            289.0   \n",
       "4        2020-07-01 00:08:03         State St & 33rd St            148.0   \n",
       "...                      ...                        ...              ...   \n",
       "4025498  2021-07-01 00:06:09      Calumet Ave & 18th St            13102   \n",
       "4025499  2021-07-01 00:04:21  Ashland Ave & Chicago Ave            13247   \n",
       "4025500  2021-07-01 00:06:11      Calumet Ave & 18th St            13102   \n",
       "4025501  2021-07-01 00:27:54     Michigan Ave & Lake St     TA1305000011   \n",
       "4025502  2021-07-01 00:36:07     Wabash Ave & Cermak Rd     TA1305000001   \n",
       "\n",
       "                             end_station_name end_station_id  start_lat  ...  \\\n",
       "0                         Buckingham Fountain            2.0  41.876511  ...   \n",
       "1                          Clark St & Lake St           38.0  41.912133  ...   \n",
       "2                      Wabash Ave & Wacker Pl          194.0  41.886875  ...   \n",
       "3                          Clark St & Lake St           38.0  41.912133  ...   \n",
       "4                         MLK Jr Dr & 29th St          237.0  41.834734  ...   \n",
       "...                                       ...            ...        ...  ...   \n",
       "4025498             Wabash Ave & Roosevelt Rd   TA1305000002  41.857611  ...   \n",
       "4025499  Damen Ave & Thomas St (Augusta Blvd)   TA1307000070  41.895966  ...   \n",
       "4025500             Wabash Ave & Roosevelt Rd   TA1305000002  41.857611  ...   \n",
       "4025501                Wabash Ave & Wacker Pl   TA1307000131  41.886024  ...   \n",
       "4025502             Sedgwick St & Webster Ave          13191  41.852619  ...   \n",
       "\n",
       "           end_lng  member_casual           start_time             end_time  \\\n",
       "0       -87.620548         casual  2020-07-01 00:00:14  2020-07-01 01:28:12   \n",
       "1       -87.630876         casual  2020-07-01 00:00:15  2020-07-01 02:44:58   \n",
       "2       -87.626030         casual  2020-07-01 00:00:49  2020-07-01 00:45:04   \n",
       "3       -87.630876         casual  2020-07-01 00:00:50  2020-07-01 02:52:16   \n",
       "4       -87.617000         member  2020-07-01 00:01:11  2020-07-01 00:08:03   \n",
       "...            ...            ...                  ...                  ...   \n",
       "4025498 -87.625961         casual  2021-06-30 23:59:15  2021-07-01 00:06:09   \n",
       "4025499 -87.677409         casual  2021-06-30 23:59:16  2021-07-01 00:04:21   \n",
       "4025500 -87.625961         member  2021-06-30 23:59:26  2021-07-01 00:06:11   \n",
       "4025501 -87.626030         casual  2021-06-30 23:59:35  2021-07-01 00:27:54   \n",
       "4025502 -87.638888         member  2021-06-30 23:59:59  2021-07-01 00:36:07   \n",
       "\n",
       "             ride_length          start_date1 start_time1 week_day  year month  \n",
       "0        0 days 01:27:58  2020-07-01 00:00:00    00:00:14  Tuesday  2020     7  \n",
       "1        0 days 02:44:43  2020-07-01 00:00:00    00:00:15  Tuesday  2020     7  \n",
       "2        0 days 00:44:15  2020-07-01 00:00:00    00:00:49  Tuesday  2020     7  \n",
       "3        0 days 02:51:26  2020-07-01 00:00:00    00:00:50  Tuesday  2020     7  \n",
       "4        0 days 00:06:52  2020-07-01 00:00:00    00:01:11  Tuesday  2020     7  \n",
       "...                  ...                  ...         ...      ...   ...   ...  \n",
       "4025498  0 days 00:06:54  2021-06-30 00:00:00    23:59:15  Tuesday  2021     6  \n",
       "4025499  0 days 00:05:05  2021-06-30 00:00:00    23:59:16  Tuesday  2021     6  \n",
       "4025500  0 days 00:06:45  2021-06-30 00:00:00    23:59:26  Tuesday  2021     6  \n",
       "4025501  0 days 00:28:19  2021-06-30 00:00:00    23:59:35  Tuesday  2021     6  \n",
       "4025502  0 days 00:36:08  2021-06-30 00:00:00    23:59:59  Tuesday  2021     6  \n",
       "\n",
       "[4025503 rows x 22 columns]"
      ]
     },
     "execution_count": 20,
     "metadata": {},
     "output_type": "execute_result"
    }
   ],
   "source": [
    "# Print the cleaned dataframe\n",
    "final_df"
   ]
  },
  {
   "cell_type": "code",
   "execution_count": 21,
   "metadata": {},
   "outputs": [
    {
     "data": {
      "text/plain": [
       "Unnamed: 0              int64\n",
       "ride_id                object\n",
       "rideable_type          object\n",
       "started_at             object\n",
       "ended_at               object\n",
       "start_station_name     object\n",
       "start_station_id       object\n",
       "end_station_name       object\n",
       "end_station_id         object\n",
       "start_lat             float64\n",
       "start_lng             float64\n",
       "end_lat               float64\n",
       "end_lng               float64\n",
       "member_casual          object\n",
       "start_time             object\n",
       "end_time               object\n",
       "ride_length            object\n",
       "start_date1            object\n",
       "start_time1            object\n",
       "week_day               object\n",
       "year                    int64\n",
       "month                   int64\n",
       "dtype: object"
      ]
     },
     "execution_count": 21,
     "metadata": {},
     "output_type": "execute_result"
    }
   ],
   "source": [
    "final_df.dtypes"
   ]
  },
  {
   "cell_type": "markdown",
   "metadata": {},
   "source": [
    "Create a new column for calculating distance between start and end points with the help of Euclidean distance formula."
   ]
  },
  {
   "cell_type": "code",
   "execution_count": 20,
   "metadata": {
    "colab": {
     "base_uri": "https://localhost:8080/"
    },
    "executionInfo": {
     "elapsed": 7,
     "status": "ok",
     "timestamp": 1629901495440,
     "user": {
      "displayName": "Pooja Mehta",
      "photoUrl": "https://lh3.googleusercontent.com/a-/AOh14GgyYC4Z21z3lv3B7ucXGY_5Q4zKBxx3R3ImdXJK=s64",
      "userId": "17458985435588857896"
     },
     "user_tz": -330
    },
    "id": "aodcruj-I91F",
    "outputId": "3c8a8064-c615-4e79-fa4c-b10bc0c75bb9"
   },
   "outputs": [
    {
     "data": {
      "text/plain": [
       "0          2.290298e-07\n",
       "1          2.638434e-02\n",
       "2          0.000000e+00\n",
       "3          2.638434e-02\n",
       "4          1.145522e-02\n",
       "               ...     \n",
       "4025498    1.163711e-02\n",
       "4025499    1.104382e-02\n",
       "4025500    1.163711e-02\n",
       "4025501    2.093745e-03\n",
       "4025502    7.064478e-02\n",
       "Name: distance, Length: 4025503, dtype: float64"
      ]
     },
     "execution_count": 20,
     "metadata": {},
     "output_type": "execute_result"
    }
   ],
   "source": [
    "# To calculate euclidean distance between start and end point.\n",
    "final_df[\"x\"] = (final_df[\"end_lat\"] - final_df[\"start_lat\"])**2\n",
    "final_df[\"y\"] = (final_df[\"end_lng\"] - final_df[\"start_lng\"])**2\n",
    "final_df[\"distance\"] = (final_df[\"x\"] + final_df[\"y\"])**(1/2)\n",
    "final_df[\"distance\"]"
   ]
  },
  {
   "cell_type": "code",
   "execution_count": 24,
   "metadata": {
    "executionInfo": {
     "elapsed": 10403,
     "status": "ok",
     "timestamp": 1629901508211,
     "user": {
      "displayName": "Pooja Mehta",
      "photoUrl": "https://lh3.googleusercontent.com/a-/AOh14GgyYC4Z21z3lv3B7ucXGY_5Q4zKBxx3R3ImdXJK=s64",
      "userId": "17458985435588857896"
     },
     "user_tz": -330
    },
    "id": "lc8u07PsI91G"
   },
   "outputs": [],
   "source": [
    "# To convert object datatype to timedelta\n",
    "final_df[\"ride_len\"] = pd.to_timedelta(final_df[\"ride_length\"])"
   ]
  },
  {
   "cell_type": "code",
   "execution_count": 25,
   "metadata": {
    "colab": {
     "base_uri": "https://localhost:8080/",
     "height": 790
    },
    "executionInfo": {
     "elapsed": 581,
     "status": "ok",
     "timestamp": 1629901508783,
     "user": {
      "displayName": "Pooja Mehta",
      "photoUrl": "https://lh3.googleusercontent.com/a-/AOh14GgyYC4Z21z3lv3B7ucXGY_5Q4zKBxx3R3ImdXJK=s64",
      "userId": "17458985435588857896"
     },
     "user_tz": -330
    },
    "id": "4CtYEicQI91G",
    "outputId": "4f5f6aad-1aab-4c9c-b3c2-563f8f258711"
   },
   "outputs": [
    {
     "data": {
      "text/plain": [
       "Unnamed: 0                      int64\n",
       "ride_id                        object\n",
       "rideable_type                  object\n",
       "started_at                     object\n",
       "ended_at                       object\n",
       "start_station_name             object\n",
       "start_station_id               object\n",
       "end_station_name               object\n",
       "end_station_id                 object\n",
       "start_lat                     float64\n",
       "start_lng                     float64\n",
       "end_lat                       float64\n",
       "end_lng                       float64\n",
       "member_casual                  object\n",
       "start_time                     object\n",
       "end_time                       object\n",
       "ride_length                    object\n",
       "start_date1                    object\n",
       "start_time1                    object\n",
       "week_day                       object\n",
       "year                            int64\n",
       "month                           int64\n",
       "ride_len              timedelta64[ns]\n",
       "dtype: object"
      ]
     },
     "execution_count": 25,
     "metadata": {},
     "output_type": "execute_result"
    }
   ],
   "source": [
    "# Print the cleaned dataframe\n",
    "final_df.dtypes"
   ]
  },
  {
   "cell_type": "markdown",
   "metadata": {},
   "source": [
    "The next step is to check whether there are any null values in the dataset or any duplicate entries present in the dataset."
   ]
  },
  {
   "cell_type": "code",
   "execution_count": 27,
   "metadata": {
    "colab": {
     "base_uri": "https://localhost:8080/"
    },
    "executionInfo": {
     "elapsed": 2123,
     "status": "ok",
     "timestamp": 1629901510904,
     "user": {
      "displayName": "Pooja Mehta",
      "photoUrl": "https://lh3.googleusercontent.com/a-/AOh14GgyYC4Z21z3lv3B7ucXGY_5Q4zKBxx3R3ImdXJK=s64",
      "userId": "17458985435588857896"
     },
     "user_tz": -330
    },
    "id": "kt8uxzPVI91G",
    "outputId": "4e464e72-5c99-47e9-97ef-681d765d562d"
   },
   "outputs": [
    {
     "data": {
      "text/plain": [
       "Unnamed: 0            0\n",
       "ride_id               0\n",
       "rideable_type         0\n",
       "started_at            0\n",
       "ended_at              0\n",
       "start_station_name    0\n",
       "start_station_id      0\n",
       "end_station_name      0\n",
       "end_station_id        0\n",
       "start_lat             0\n",
       "start_lng             0\n",
       "end_lat               0\n",
       "end_lng               0\n",
       "member_casual         0\n",
       "start_time            0\n",
       "end_time              0\n",
       "ride_length           0\n",
       "start_date1           0\n",
       "start_time1           0\n",
       "week_day              0\n",
       "year                  0\n",
       "month                 0\n",
       "ride_len              0\n",
       "dtype: int64"
      ]
     },
     "execution_count": 27,
     "metadata": {},
     "output_type": "execute_result"
    }
   ],
   "source": [
    "# To check if there are null values in dataframe\n",
    "final_df.isnull().sum()"
   ]
  },
  {
   "cell_type": "markdown",
   "metadata": {},
   "source": [
    "We can see that have no null values in the desired columns such as start time as date etc there is no need to drop any of the rows. For our analysis the data seems reasonably in good shape. lets now look at if there are any duplicate rows that we need to drop."
   ]
  },
  {
   "cell_type": "code",
   "execution_count": 28,
   "metadata": {
    "colab": {
     "base_uri": "https://localhost:8080/"
    },
    "executionInfo": {
     "elapsed": 22309,
     "status": "ok",
     "timestamp": 1629901533205,
     "user": {
      "displayName": "Pooja Mehta",
      "photoUrl": "https://lh3.googleusercontent.com/a-/AOh14GgyYC4Z21z3lv3B7ucXGY_5Q4zKBxx3R3ImdXJK=s64",
      "userId": "17458985435588857896"
     },
     "user_tz": -330
    },
    "id": "IcOwBXqeI91H",
    "outputId": "45723aa0-348f-4afc-dfa4-3ccfed0d3f77"
   },
   "outputs": [
    {
     "data": {
      "text/plain": [
       "False"
      ]
     },
     "execution_count": 28,
     "metadata": {},
     "output_type": "execute_result"
    }
   ],
   "source": [
    "# To check if there are any duplicate values in dataframe\n",
    "final_df.duplicated().any()"
   ]
  },
  {
   "cell_type": "markdown",
   "metadata": {},
   "source": [
    "As the output is false we can say that there is no duplicate value"
   ]
  },
  {
   "cell_type": "markdown",
   "metadata": {
    "id": "Y6ebGO7uI91H"
   },
   "source": [
    "# Section 4: ANALYSIS"
   ]
  },
  {
   "cell_type": "markdown",
   "metadata": {},
   "source": [
    "After cleaning the data, it is important to aggregate, organize and format the data. Here we need to perform calculations(descriptive analysis) and understand the trends present in the data. Following are the analysis I did and the outcomes I observed:"
   ]
  },
  {
   "cell_type": "markdown",
   "metadata": {},
   "source": [
    "lets find out the mean ride length of both groups of users such as member and casual"
   ]
  },
  {
   "cell_type": "code",
   "execution_count": 29,
   "metadata": {
    "colab": {
     "base_uri": "https://localhost:8080/"
    },
    "executionInfo": {
     "elapsed": 15,
     "status": "ok",
     "timestamp": 1629901533206,
     "user": {
      "displayName": "Pooja Mehta",
      "photoUrl": "https://lh3.googleusercontent.com/a-/AOh14GgyYC4Z21z3lv3B7ucXGY_5Q4zKBxx3R3ImdXJK=s64",
      "userId": "17458985435588857896"
     },
     "user_tz": -330
    },
    "id": "BlW4LQ3BI91H",
    "outputId": "81abbc87-59fe-450a-a31c-dfffd1da49b8"
   },
   "outputs": [
    {
     "data": {
      "text/plain": [
       "Timedelta('0 days 00:24:09.360428994')"
      ]
     },
     "execution_count": 29,
     "metadata": {},
     "output_type": "execute_result"
    }
   ],
   "source": [
    "#To calculate mean of ride length of all types of users\n",
    "mean_ride_length = final_df[\"ride_len\"].mean()\n",
    "mean_ride_length"
   ]
  },
  {
   "cell_type": "code",
   "execution_count": 30,
   "metadata": {
    "colab": {
     "base_uri": "https://localhost:8080/"
    },
    "executionInfo": {
     "elapsed": 12,
     "status": "ok",
     "timestamp": 1629901533206,
     "user": {
      "displayName": "Pooja Mehta",
      "photoUrl": "https://lh3.googleusercontent.com/a-/AOh14GgyYC4Z21z3lv3B7ucXGY_5Q4zKBxx3R3ImdXJK=s64",
      "userId": "17458985435588857896"
     },
     "user_tz": -330
    },
    "id": "RW7TKjBKI91I",
    "outputId": "b3a58d2a-8849-4985-eb87-cae2402eea50"
   },
   "outputs": [
    {
     "data": {
      "text/plain": [
       "Timedelta('38 days 20:24:09')"
      ]
     },
     "execution_count": 30,
     "metadata": {},
     "output_type": "execute_result"
    }
   ],
   "source": [
    "# Calculate the max ride_length of all types of users\n",
    "max_ride_length = final_df[\"ride_len\"].max()\n",
    "max_ride_length"
   ]
  },
  {
   "cell_type": "code",
   "execution_count": 31,
   "metadata": {
    "colab": {
     "base_uri": "https://localhost:8080/"
    },
    "executionInfo": {
     "elapsed": 1165,
     "status": "ok",
     "timestamp": 1629901534361,
     "user": {
      "displayName": "Pooja Mehta",
      "photoUrl": "https://lh3.googleusercontent.com/a-/AOh14GgyYC4Z21z3lv3B7ucXGY_5Q4zKBxx3R3ImdXJK=s64",
      "userId": "17458985435588857896"
     },
     "user_tz": -330
    },
    "id": "zXDSCzw_I91I",
    "outputId": "d1f274b3-205f-405f-a314-73a5800b2898"
   },
   "outputs": [
    {
     "data": {
      "text/plain": [
       "Timedelta('0 days 00:11:35.488927758')"
      ]
     },
     "execution_count": 31,
     "metadata": {},
     "output_type": "execute_result"
    }
   ],
   "source": [
    "# To calculate mean ride length for member\n",
    "mean_ride_length_member = final_df[final_df[\"member_casual\"] == \"member\"]\n",
    "mean_ride_length_member = mean_ride_length_member[\"ride_len\"].mean()\n",
    "mean_ride_length_member"
   ]
  },
  {
   "cell_type": "code",
   "execution_count": 32,
   "metadata": {
    "colab": {
     "base_uri": "https://localhost:8080/"
    },
    "executionInfo": {
     "elapsed": 586,
     "status": "ok",
     "timestamp": 1629901534945,
     "user": {
      "displayName": "Pooja Mehta",
      "photoUrl": "https://lh3.googleusercontent.com/a-/AOh14GgyYC4Z21z3lv3B7ucXGY_5Q4zKBxx3R3ImdXJK=s64",
      "userId": "17458985435588857896"
     },
     "user_tz": -330
    },
    "id": "sesYF21FI91I",
    "outputId": "79b2c609-8eb1-4c41-a1c6-dbcdf76db33c"
   },
   "outputs": [
    {
     "data": {
      "text/plain": [
       "Timedelta('0 days 00:40:51.870952414')"
      ]
     },
     "execution_count": 32,
     "metadata": {},
     "output_type": "execute_result"
    }
   ],
   "source": [
    "# To calculate mean ride length for casual riders\n",
    "mean_ride_length_casual = final_df[final_df[\"member_casual\"] == \"casual\"]\n",
    "mean_ride_length_casual = mean_ride_length_casual[\"ride_len\"].mean()\n",
    "mean_ride_length_casual"
   ]
  },
  {
   "cell_type": "markdown",
   "metadata": {},
   "source": [
    "Here we have Calculated the mean ride length of all types of users, annual members and casual riders.\n",
    "\n",
    "---> Observed that the mean ride length of casual riders was the highest."
   ]
  },
  {
   "cell_type": "markdown",
   "metadata": {},
   "source": [
    "lets look at the maximum ride time in both user categories"
   ]
  },
  {
   "cell_type": "code",
   "execution_count": 33,
   "metadata": {
    "colab": {
     "base_uri": "https://localhost:8080/"
    },
    "executionInfo": {
     "elapsed": 1126,
     "status": "ok",
     "timestamp": 1629901536070,
     "user": {
      "displayName": "Pooja Mehta",
      "photoUrl": "https://lh3.googleusercontent.com/a-/AOh14GgyYC4Z21z3lv3B7ucXGY_5Q4zKBxx3R3ImdXJK=s64",
      "userId": "17458985435588857896"
     },
     "user_tz": -330
    },
    "id": "BX6Baz0aI91I",
    "outputId": "ef07c36b-2201-42b6-da44-211ea8b935b5"
   },
   "outputs": [
    {
     "data": {
      "text/plain": [
       "Timedelta('23 days 05:01:22')"
      ]
     },
     "execution_count": 33,
     "metadata": {},
     "output_type": "execute_result"
    }
   ],
   "source": [
    "# To calculate max ride length for member\n",
    "max_ride_length_member = final_df[final_df[\"member_casual\"] == \"member\"]\n",
    "max_ride_length_member = max_ride_length_member[\"ride_len\"].max()\n",
    "max_ride_length_member"
   ]
  },
  {
   "cell_type": "code",
   "execution_count": 34,
   "metadata": {
    "colab": {
     "base_uri": "https://localhost:8080/"
    },
    "executionInfo": {
     "elapsed": 580,
     "status": "ok",
     "timestamp": 1629901536647,
     "user": {
      "displayName": "Pooja Mehta",
      "photoUrl": "https://lh3.googleusercontent.com/a-/AOh14GgyYC4Z21z3lv3B7ucXGY_5Q4zKBxx3R3ImdXJK=s64",
      "userId": "17458985435588857896"
     },
     "user_tz": -330
    },
    "id": "c6763i8iI91J",
    "outputId": "85e4bdfe-9d29-4827-fffc-a0369082357d"
   },
   "outputs": [
    {
     "data": {
      "text/plain": [
       "Timedelta('38 days 20:24:09')"
      ]
     },
     "execution_count": 34,
     "metadata": {},
     "output_type": "execute_result"
    }
   ],
   "source": [
    "# To calculate max ride length for casual riders\n",
    "max_ride_length_casual = final_df[final_df[\"member_casual\"] == \"casual\"]\n",
    "max_ride_length_casual = max_ride_length_casual[\"ride_len\"].max()\n",
    "max_ride_length_casual"
   ]
  },
  {
   "cell_type": "markdown",
   "metadata": {},
   "source": [
    "Here we have Calculated the max ride length of all types of users, annual members and casual riders.\n",
    "\n",
    "Observed that the max ride length of casual riders was the highest."
   ]
  },
  {
   "cell_type": "markdown",
   "metadata": {},
   "source": [
    "lets take a look at mode value of ride for each group of riders"
   ]
  },
  {
   "cell_type": "code",
   "execution_count": 35,
   "metadata": {
    "colab": {
     "base_uri": "https://localhost:8080/"
    },
    "executionInfo": {
     "elapsed": 545,
     "status": "ok",
     "timestamp": 1629901537190,
     "user": {
      "displayName": "Pooja Mehta",
      "photoUrl": "https://lh3.googleusercontent.com/a-/AOh14GgyYC4Z21z3lv3B7ucXGY_5Q4zKBxx3R3ImdXJK=s64",
      "userId": "17458985435588857896"
     },
     "user_tz": -330
    },
    "id": "vTOIF_s9I91J",
    "outputId": "8c013348-8bfe-4d8c-8ed1-5253dc030ba1"
   },
   "outputs": [
    {
     "data": {
      "text/plain": [
       "0    Friday\n",
       "dtype: object"
      ]
     },
     "execution_count": 35,
     "metadata": {},
     "output_type": "execute_result"
    }
   ],
   "source": [
    "# Calculate the mode of week_day for all types of users\n",
    "mode_week_day = final_df[\"week_day\"].mode()\n",
    "mode_week_day"
   ]
  },
  {
   "cell_type": "code",
   "execution_count": 36,
   "metadata": {
    "colab": {
     "base_uri": "https://localhost:8080/"
    },
    "executionInfo": {
     "elapsed": 1401,
     "status": "ok",
     "timestamp": 1629901538590,
     "user": {
      "displayName": "Pooja Mehta",
      "photoUrl": "https://lh3.googleusercontent.com/a-/AOh14GgyYC4Z21z3lv3B7ucXGY_5Q4zKBxx3R3ImdXJK=s64",
      "userId": "17458985435588857896"
     },
     "user_tz": -330
    },
    "id": "iRyq1Yc2I91J",
    "outputId": "c32c08ae-7517-42e3-9ded-fa192fcd1e66"
   },
   "outputs": [
    {
     "data": {
      "text/plain": [
       "0    Tuesday\n",
       "dtype: object"
      ]
     },
     "execution_count": 36,
     "metadata": {},
     "output_type": "execute_result"
    }
   ],
   "source": [
    "# To calculate mode of week_day for member\n",
    "mode_week_day_member = final_df[final_df[\"member_casual\"] == \"member\"]\n",
    "mode_week_day_member = mode_week_day_member[\"week_day\"].mode()\n",
    "mode_week_day_member"
   ]
  },
  {
   "cell_type": "code",
   "execution_count": 37,
   "metadata": {
    "colab": {
     "base_uri": "https://localhost:8080/"
    },
    "executionInfo": {
     "elapsed": 585,
     "status": "ok",
     "timestamp": 1629901539174,
     "user": {
      "displayName": "Pooja Mehta",
      "photoUrl": "https://lh3.googleusercontent.com/a-/AOh14GgyYC4Z21z3lv3B7ucXGY_5Q4zKBxx3R3ImdXJK=s64",
      "userId": "17458985435588857896"
     },
     "user_tz": -330
    },
    "id": "IGM0DQOBI91J",
    "outputId": "d7c42567-1b97-442b-f436-0ad3bf4e1600"
   },
   "outputs": [
    {
     "data": {
      "text/plain": [
       "0    Friday\n",
       "dtype: object"
      ]
     },
     "execution_count": 37,
     "metadata": {},
     "output_type": "execute_result"
    }
   ],
   "source": [
    "# To calculate mode of week_day for casual\n",
    "mode_week_day_casual = final_df[final_df[\"member_casual\"] == \"casual\"]\n",
    "mode_week_day_casual = mode_week_day_casual[\"week_day\"].mode()\n",
    "mode_week_day_casual"
   ]
  },
  {
   "cell_type": "markdown",
   "metadata": {},
   "source": [
    "Here we have Calculated the mode of weekday for all types of users, annual members and casual riders.\n",
    "\n",
    " Observed that the mode weekday for casual riders is “Friday” whereas for annual members it is “Tuesday”."
   ]
  },
  {
   "cell_type": "markdown",
   "metadata": {},
   "source": [
    "lets see the details of number of rides per day for each user"
   ]
  },
  {
   "cell_type": "code",
   "execution_count": 43,
   "metadata": {
    "colab": {
     "base_uri": "https://localhost:8080/"
    },
    "executionInfo": {
     "elapsed": 2570,
     "status": "ok",
     "timestamp": 1629901541742,
     "user": {
      "displayName": "Pooja Mehta",
      "photoUrl": "https://lh3.googleusercontent.com/a-/AOh14GgyYC4Z21z3lv3B7ucXGY_5Q4zKBxx3R3ImdXJK=s64",
      "userId": "17458985435588857896"
     },
     "user_tz": -330
    },
    "id": "dq99YmZFI91K",
    "outputId": "ed990cae-d986-4bd9-da05-4a2ed74d4a0d"
   },
   "outputs": [
    {
     "data": {
      "text/plain": [
       "week_day\n",
       "0    492594\n",
       "1    511069\n",
       "2    544916\n",
       "3    518999\n",
       "4    590976\n",
       "5    740118\n",
       "6    626831\n",
       "Name: ride_id, dtype: int64"
      ]
     },
     "execution_count": 43,
     "metadata": {},
     "output_type": "execute_result"
    }
   ],
   "source": [
    "# Calculate the number of rides for users by week_day by adding Count of ride_id to Values\n",
    "dict1 = {\"Sunday\": 0, \"Monday\": 1, \"Tuesday\": 2, \"Wednesday\": 3, \"Thursday\": 4, \"Friday\":5, \"Saturday\": 6}\n",
    "final_df['week_day'] = final_df['week_day'].apply(lambda y: dict1[y])\n",
    "\n",
    "count_users_week_day = final_df.groupby('week_day')['ride_id'].count()\n",
    "count_users_week_day = count_users_week_day.sort_index()\n",
    "count_users_week_day"
   ]
  },
  {
   "cell_type": "code",
   "execution_count": 44,
   "metadata": {
    "colab": {
     "base_uri": "https://localhost:8080/"
    },
    "executionInfo": {
     "elapsed": 922,
     "status": "ok",
     "timestamp": 1629901542662,
     "user": {
      "displayName": "Pooja Mehta",
      "photoUrl": "https://lh3.googleusercontent.com/a-/AOh14GgyYC4Z21z3lv3B7ucXGY_5Q4zKBxx3R3ImdXJK=s64",
      "userId": "17458985435588857896"
     },
     "user_tz": -330
    },
    "id": "7Nrcal6dI91K",
    "outputId": "454a0cab-eba0-4451-9f76-3096eaf74bbe"
   },
   "outputs": [
    {
     "data": {
      "text/plain": [
       "week_day\n",
       "0    306654\n",
       "1    331260\n",
       "2    354757\n",
       "3    331126\n",
       "4    340117\n",
       "5    340617\n",
       "6    293152\n",
       "Name: ride_id, dtype: int64"
      ]
     },
     "execution_count": 44,
     "metadata": {},
     "output_type": "execute_result"
    }
   ],
   "source": [
    "# Calculate the number of rides for member by week_day by adding Count of ride_id to Values\n",
    "count_member_week_day = final_df[final_df[\"member_casual\"] == \"member\"].groupby('week_day')['ride_id'].count()\n",
    "count_member_week_day"
   ]
  },
  {
   "cell_type": "code",
   "execution_count": 45,
   "metadata": {
    "colab": {
     "base_uri": "https://localhost:8080/"
    },
    "executionInfo": {
     "elapsed": 1272,
     "status": "ok",
     "timestamp": 1629901543933,
     "user": {
      "displayName": "Pooja Mehta",
      "photoUrl": "https://lh3.googleusercontent.com/a-/AOh14GgyYC4Z21z3lv3B7ucXGY_5Q4zKBxx3R3ImdXJK=s64",
      "userId": "17458985435588857896"
     },
     "user_tz": -330
    },
    "id": "Jg7Ito4xI91L",
    "outputId": "e0e00af2-14bb-4dfe-f6f9-0cea5aad22e8"
   },
   "outputs": [
    {
     "data": {
      "text/plain": [
       "week_day\n",
       "0    185940\n",
       "1    179809\n",
       "2    190159\n",
       "3    187873\n",
       "4    250859\n",
       "5    399501\n",
       "6    333679\n",
       "Name: ride_id, dtype: int64"
      ]
     },
     "execution_count": 45,
     "metadata": {},
     "output_type": "execute_result"
    }
   ],
   "source": [
    "# Calculate the number of rides for casual by week_day by adding Count of ride_id to Values\n",
    "count_casual_week_day = final_df[final_df[\"member_casual\"] == \"casual\"].groupby('week_day')['ride_id'].count()\n",
    "count_casual_week_day"
   ]
  },
  {
   "cell_type": "markdown",
   "metadata": {},
   "source": [
    "Calculate the number of rides for all types of users, annual members and casual riders by weekday by adding count of ride_id to values.\n",
    "\n",
    " The maximum number of rides for casual riders was on Friday and lowest was recorded on Monday.\n",
    "\n",
    " The maximum number of rides for annual members was on Tuesday and lowest was recorded on Saturday."
   ]
  },
  {
   "cell_type": "markdown",
   "metadata": {},
   "source": [
    "# Visualisation"
   ]
  },
  {
   "cell_type": "code",
   "execution_count": 46,
   "metadata": {
    "colab": {
     "base_uri": "https://localhost:8080/",
     "height": 390
    },
    "executionInfo": {
     "elapsed": 8,
     "status": "ok",
     "timestamp": 1629901543933,
     "user": {
      "displayName": "Pooja Mehta",
      "photoUrl": "https://lh3.googleusercontent.com/a-/AOh14GgyYC4Z21z3lv3B7ucXGY_5Q4zKBxx3R3ImdXJK=s64",
      "userId": "17458985435588857896"
     },
     "user_tz": -330
    },
    "id": "-Xk3MxS_I91L",
    "outputId": "6d51801d-e4bb-49c0-ceca-ee0880fed0ae"
   },
   "outputs": [
    {
     "data": {
      "image/png": "[encoded data removed]",
      "text/plain": [
       "<Figure size 576x432 with 1 Axes>"
      ]
     },
     "metadata": {
      "needs_background": "light"
     },
     "output_type": "display_data"
    }
   ],
   "source": [
    "# To plot graph of Weekday Vs Number Of Rides\n",
    "plt.figure(figsize = (8,6))\n",
    "plt.plot(count_users_week_day.index, count_users_week_day.values)\n",
    "plt.plot(count_member_week_day.index, count_member_week_day.values)\n",
    "plt.plot(count_casual_week_day.index, count_casual_week_day.values)\n",
    "plt.title(\"Calculate the number of rides for different users by week_day by adding Count of ride_id to Values\")\n",
    "plt.legend([\"user\", \"member\", \"casual\"])\n",
    "labels = [\"Sunday\", \"Monday\", \"Tuesday\", \"Wednesday\", \"Thursday\", \"Friday\", \"Saturday\"]\n",
    "plt.xticks(count_casual_week_day.index, labels)\n",
    "plt.show()"
   ]
  },
  {
   "cell_type": "markdown",
   "metadata": {},
   "source": [
    "It confirms from the above plot what we already found out that the member users tend to use rides on the week days where as the casual members are riding more on the weekends. Now lets find out the average ride length of each user per day"
   ]
  },
  {
   "cell_type": "code",
   "execution_count": 47,
   "metadata": {
    "colab": {
     "base_uri": "https://localhost:8080/"
    },
    "executionInfo": {
     "elapsed": 7,
     "status": "ok",
     "timestamp": 1629901543934,
     "user": {
      "displayName": "Pooja Mehta",
      "photoUrl": "https://lh3.googleusercontent.com/a-/AOh14GgyYC4Z21z3lv3B7ucXGY_5Q4zKBxx3R3ImdXJK=s64",
      "userId": "17458985435588857896"
     },
     "user_tz": -330
    },
    "id": "IMBhWLeOI91J",
    "outputId": "6ad1863b-e34f-47a1-a937-3cc9ccb14f0a"
   },
   "outputs": [
    {
     "data": {
      "text/plain": [
       "week_day\n",
       "0   0 days 00:24:06.710595338\n",
       "1   0 days 00:04:27.933680187\n",
       "2   0 days 00:22:23.169934448\n",
       "3   0 days 00:22:39.126884637\n",
       "4   0 days 00:25:21.690127856\n",
       "5   0 days 00:31:24.290038885\n",
       "6   0 days 00:33:19.983402224\n",
       "Name: ride_len, dtype: timedelta64[ns]"
      ]
     },
     "execution_count": 47,
     "metadata": {},
     "output_type": "execute_result"
    }
   ],
   "source": [
    "# Calculate the average ride_length for users by week_day\n",
    "user_avg_ride_len_week_day = final_df.groupby(\"week_day\")['ride_len'].mean(numeric_only=False)\n",
    "user_avg_ride_len_week_day"
   ]
  },
  {
   "cell_type": "code",
   "execution_count": 48,
   "metadata": {
    "colab": {
     "base_uri": "https://localhost:8080/"
    },
    "executionInfo": {
     "elapsed": 347,
     "status": "ok",
     "timestamp": 1629901544817,
     "user": {
      "displayName": "Pooja Mehta",
      "photoUrl": "https://lh3.googleusercontent.com/a-/AOh14GgyYC4Z21z3lv3B7ucXGY_5Q4zKBxx3R3ImdXJK=s64",
      "userId": "17458985435588857896"
     },
     "user_tz": -330
    },
    "id": "9EoHdszxI91K",
    "outputId": "cdeafa34-2b70-44b7-e629-975955c457ff"
   },
   "outputs": [
    {
     "data": {
      "text/plain": [
       "week_day\n",
       "0     0 days 00:14:13.133508775\n",
       "1   -1 days +23:51:37.289627483\n",
       "2     0 days 00:14:01.688383879\n",
       "3     0 days 00:13:58.298834884\n",
       "4     0 days 00:14:32.475189420\n",
       "5     0 days 00:16:19.305604241\n",
       "6     0 days 00:16:51.198811538\n",
       "Name: ride_len, dtype: timedelta64[ns]"
      ]
     },
     "execution_count": 48,
     "metadata": {},
     "output_type": "execute_result"
    }
   ],
   "source": [
    "# Calculate the average ride_length for members by week_day\n",
    "member_avg_ride_len_week_day = final_df[final_df[\"member_casual\"] == \"member\"].groupby('week_day')['ride_len'].mean(numeric_only=False)\n",
    "member_avg_ride_len_week_day"
   ]
  },
  {
   "cell_type": "code",
   "execution_count": 49,
   "metadata": {
    "colab": {
     "base_uri": "https://localhost:8080/"
    },
    "executionInfo": {
     "elapsed": 716,
     "status": "ok",
     "timestamp": 1629901546042,
     "user": {
      "displayName": "Pooja Mehta",
      "photoUrl": "https://lh3.googleusercontent.com/a-/AOh14GgyYC4Z21z3lv3B7ucXGY_5Q4zKBxx3R3ImdXJK=s64",
      "userId": "17458985435588857896"
     },
     "user_tz": -330
    },
    "id": "NS-OKIgMI91K",
    "outputId": "6ae6ab02-4d39-4f3f-e02a-cd776edda425"
   },
   "outputs": [
    {
     "data": {
      "text/plain": [
       "week_day\n",
       "0   0 days 00:40:25.643519414\n",
       "1   0 days 00:28:07.682129370\n",
       "2   0 days 00:37:58.724341209\n",
       "3   0 days 00:37:57.085871838\n",
       "4   0 days 00:40:01.901869177\n",
       "5   0 days 00:44:15.885311926\n",
       "6   0 days 00:47:48.675109911\n",
       "Name: ride_len, dtype: timedelta64[ns]"
      ]
     },
     "execution_count": 49,
     "metadata": {},
     "output_type": "execute_result"
    }
   ],
   "source": [
    "# Calculate the average ride_length for casual by week_day\n",
    "casual_avg_ride_len_week_day = final_df[final_df[\"member_casual\"] == \"casual\"].groupby('week_day')['ride_len'].mean(numeric_only=False)\n",
    "casual_avg_ride_len_week_day"
   ]
  },
  {
   "cell_type": "markdown",
   "metadata": {},
   "source": [
    "Calculate the average ride length for casual riders by weekday.\n",
    "\n",
    "The highest average ride length for casual riders is observed on Saturday which is approximately 47 minutes."
   ]
  },
  {
   "cell_type": "code",
   "execution_count": 50,
   "metadata": {
    "colab": {
     "base_uri": "https://localhost:8080/",
     "height": 281
    },
    "executionInfo": {
     "elapsed": 4,
     "status": "ok",
     "timestamp": 1629901546043,
     "user": {
      "displayName": "Pooja Mehta",
      "photoUrl": "https://lh3.googleusercontent.com/a-/AOh14GgyYC4Z21z3lv3B7ucXGY_5Q4zKBxx3R3ImdXJK=s64",
      "userId": "17458985435588857896"
     },
     "user_tz": -330
    },
    "id": "Th0w--FrI91K",
    "outputId": "706676c4-1a6c-4c4e-c8d1-27528ad86d0b"
   },
   "outputs": [
    {
     "data": {
      "image/png": "[encoded data removed]",
      "text/plain": [
       "<Figure size 432x288 with 1 Axes>"
      ]
     },
     "metadata": {
      "needs_background": "light"
     },
     "output_type": "display_data"
    }
   ],
   "source": [
    "# To plot graph of Weekday Vs Average ride length\n",
    "plt.plot(user_avg_ride_len_week_day/pd.Timedelta(minutes=1))\n",
    "plt.plot(member_avg_ride_len_week_day/pd.Timedelta(minutes=1))\n",
    "plt.plot(casual_avg_ride_len_week_day/pd.Timedelta(minutes=1))\n",
    "plt.title(\"The average ride_length for different users by week_day\")\n",
    "plt.legend([\"user\", \"member\", \"casual\"])\n",
    "labels = [\"Sunday\", \"Monday\", \"Tuesday\", \"Wednesday\", \"Thursday\", \"Friday\", \"Saturday\"]\n",
    "plt.xticks(user_avg_ride_len_week_day.index, labels)\n",
    "plt.show()"
   ]
  },
  {
   "cell_type": "code",
   "execution_count": 52,
   "metadata": {
    "executionInfo": {
     "elapsed": 5,
     "status": "ok",
     "timestamp": 1629901546444,
     "user": {
      "displayName": "Pooja Mehta",
      "photoUrl": "https://lh3.googleusercontent.com/a-/AOh14GgyYC4Z21z3lv3B7ucXGY_5Q4zKBxx3R3ImdXJK=s64",
      "userId": "17458985435588857896"
     },
     "user_tz": -330
    },
    "id": "dsiE3NSzI91L"
   },
   "outputs": [],
   "source": [
    "# To extract important features of the dataframe into a new dataframe\n",
    "final_file = final_df[[\"ride_id\", \"rideable_type\", \"ride_len\", \"week_day\", \"year\", \"month\", \"member_casual\"]]"
   ]
  },
  {
   "cell_type": "code",
   "execution_count": 53,
   "metadata": {
    "colab": {
     "base_uri": "https://localhost:8080/"
    },
    "executionInfo": {
     "elapsed": 7,
     "status": "ok",
     "timestamp": 1629901546446,
     "user": {
      "displayName": "Pooja Mehta",
      "photoUrl": "https://lh3.googleusercontent.com/a-/AOh14GgyYC4Z21z3lv3B7ucXGY_5Q4zKBxx3R3ImdXJK=s64",
      "userId": "17458985435588857896"
     },
     "user_tz": -330
    },
    "id": "Q1XMWRupI91M",
    "outputId": "1ff2606e-ab91-4d6a-bd2e-58e4407cb00a"
   },
   "outputs": [
    {
     "name": "stdout",
     "output_type": "stream",
     "text": [
      "<class 'pandas.core.frame.DataFrame'>\n",
      "RangeIndex: 4025503 entries, 0 to 4025502\n",
      "Data columns (total 7 columns):\n",
      " #   Column         Dtype          \n",
      "---  ------         -----          \n",
      " 0   ride_id        object         \n",
      " 1   rideable_type  object         \n",
      " 2   ride_len       timedelta64[ns]\n",
      " 3   week_day       int64          \n",
      " 4   year           int64          \n",
      " 5   month          int64          \n",
      " 6   member_casual  object         \n",
      "dtypes: int64(3), object(3), timedelta64[ns](1)\n",
      "memory usage: 215.0+ MB\n"
     ]
    }
   ],
   "source": [
    "# To get the information of the dataframe\n",
    "final_file.info()"
   ]
  },
  {
   "cell_type": "markdown",
   "metadata": {
    "id": "A9PB55e7I91M"
   },
   "source": [
    "# Section 5: SHARE"
   ]
  },
  {
   "cell_type": "markdown",
   "metadata": {},
   "source": [
    " lets take a look at the number of user in each category"
   ]
  },
  {
   "cell_type": "code",
   "execution_count": 54,
   "metadata": {
    "colab": {
     "base_uri": "https://localhost:8080/"
    },
    "executionInfo": {
     "elapsed": 3,
     "status": "ok",
     "timestamp": 1629901546779,
     "user": {
      "displayName": "Pooja Mehta",
      "photoUrl": "https://lh3.googleusercontent.com/a-/AOh14GgyYC4Z21z3lv3B7ucXGY_5Q4zKBxx3R3ImdXJK=s64",
      "userId": "17458985435588857896"
     },
     "user_tz": -330
    },
    "id": "5tuYV4FqI91M",
    "outputId": "b354f9f2-4ff0-44db-d26c-3bb79c8f03bd"
   },
   "outputs": [
    {
     "data": {
      "text/plain": [
       "member    2297683\n",
       "casual    1727820\n",
       "Name: member_casual, dtype: int64"
      ]
     },
     "execution_count": 54,
     "metadata": {},
     "output_type": "execute_result"
    }
   ],
   "source": [
    "# To check the number of users in each type over past 12 months\n",
    "member_type = final_file[\"member_casual\"].value_counts()\n",
    "member_type"
   ]
  },
  {
   "cell_type": "markdown",
   "metadata": {},
   "source": [
    "lets plot the above information through a bar chart"
   ]
  },
  {
   "cell_type": "code",
   "execution_count": 55,
   "metadata": {
    "colab": {
     "base_uri": "https://localhost:8080/",
     "height": 281
    },
    "executionInfo": {
     "elapsed": 820,
     "status": "ok",
     "timestamp": 1629901547597,
     "user": {
      "displayName": "Pooja Mehta",
      "photoUrl": "https://lh3.googleusercontent.com/a-/AOh14GgyYC4Z21z3lv3B7ucXGY_5Q4zKBxx3R3ImdXJK=s64",
      "userId": "17458985435588857896"
     },
     "user_tz": -330
    },
    "id": "BQwsrbeDI91M",
    "outputId": "f679abc9-68f1-4146-8f74-8bd6189d6ff6"
   },
   "outputs": [
    {
     "data": {
      "image/png": "[encoded data removed]",
      "text/plain": [
       "<Figure size 432x288 with 1 Axes>"
      ]
     },
     "metadata": {
      "needs_background": "light"
     },
     "output_type": "display_data"
    }
   ],
   "source": [
    "# To plot the count plot of users in each type\n",
    "plt.title(\"count of users in each type\")\n",
    "plt.bar(member_type.index, member_type.values)\n",
    "plt.show()"
   ]
  },
  {
   "cell_type": "code",
   "execution_count": 56,
   "metadata": {
    "colab": {
     "base_uri": "https://localhost:8080/",
     "height": 373
    },
    "executionInfo": {
     "elapsed": 7,
     "status": "ok",
     "timestamp": 1629901547597,
     "user": {
      "displayName": "Pooja Mehta",
      "photoUrl": "https://lh3.googleusercontent.com/a-/AOh14GgyYC4Z21z3lv3B7ucXGY_5Q4zKBxx3R3ImdXJK=s64",
      "userId": "17458985435588857896"
     },
     "user_tz": -330
    },
    "id": "rzCl_PRfI91M",
    "outputId": "68f2abc3-e86c-43f2-f53c-e630dc377ee5"
   },
   "outputs": [
    {
     "data": {
      "image/png": "[encoded data removed]",
      "text/plain": [
       "<Figure size 576x432 with 1 Axes>"
      ]
     },
     "metadata": {},
     "output_type": "display_data"
    }
   ],
   "source": [
    "# To plot the pie chart of users in each type\n",
    "plt.figure(figsize = (8,6))\n",
    "plt.pie(member_type.values, labels = member_type.index, autopct='%1.1f%%')\n",
    "plt.title(\"Percentage of users in each type\")\n",
    "plt.legend(member_type.index)\n",
    "plt.show()"
   ]
  },
  {
   "cell_type": "markdown",
   "metadata": {},
   "source": [
    "Through visualizations, we can observe that the number of casual riders is approximately equal to the number of annual members. The 57.1% of total population are annual membership holders."
   ]
  },
  {
   "cell_type": "markdown",
   "metadata": {},
   "source": [
    "We would do some more analysis to see if there is trends in number of rides per year ."
   ]
  },
  {
   "cell_type": "code",
   "execution_count": 48,
   "metadata": {
    "colab": {
     "base_uri": "https://localhost:8080/"
    },
    "executionInfo": {
     "elapsed": 622,
     "status": "ok",
     "timestamp": 1629901548213,
     "user": {
      "displayName": "Pooja Mehta",
      "photoUrl": "https://lh3.googleusercontent.com/a-/AOh14GgyYC4Z21z3lv3B7ucXGY_5Q4zKBxx3R3ImdXJK=s64",
      "userId": "17458985435588857896"
     },
     "user_tz": -330
    },
    "id": "MLjRgGHiI91M",
    "outputId": "dffe1090-1a44-4505-ecfd-533814558e7d"
   },
   "outputs": [
    {
     "data": {
      "text/plain": [
       "year  member_casual\n",
       "2020  member           1347894\n",
       "      casual            987434\n",
       "2021  member            949789\n",
       "      casual            740386\n",
       "Name: member_casual, dtype: int64"
      ]
     },
     "execution_count": 48,
     "metadata": {},
     "output_type": "execute_result"
    }
   ],
   "source": [
    "# To check the number of users over years\n",
    "users_over_year = final_file.groupby('year')['member_casual'].value_counts()\n",
    "users_over_year"
   ]
  },
  {
   "cell_type": "code",
   "execution_count": 49,
   "metadata": {
    "executionInfo": {
     "elapsed": 9,
     "status": "ok",
     "timestamp": 1629901548214,
     "user": {
      "displayName": "Pooja Mehta",
      "photoUrl": "https://lh3.googleusercontent.com/a-/AOh14GgyYC4Z21z3lv3B7ucXGY_5Q4zKBxx3R3ImdXJK=s64",
      "userId": "17458985435588857896"
     },
     "user_tz": -330
    },
    "id": "oYw9_6rPI91M"
   },
   "outputs": [],
   "source": [
    "# To segregate the number of users into member or casual riders over the years\n",
    "list_year = []\n",
    "list_x = []\n",
    "list_y = list(users_over_year.values)\n",
    "for i, j in users_over_year.index:\n",
    "  list_x.append(j)\n",
    "  list_year.append(str(i))"
   ]
  },
  {
   "cell_type": "code",
   "execution_count": 50,
   "metadata": {
    "colab": {
     "base_uri": "https://localhost:8080/",
     "height": 351
    },
    "executionInfo": {
     "elapsed": 9,
     "status": "ok",
     "timestamp": 1629901548215,
     "user": {
      "displayName": "Pooja Mehta",
      "photoUrl": "https://lh3.googleusercontent.com/a-/AOh14GgyYC4Z21z3lv3B7ucXGY_5Q4zKBxx3R3ImdXJK=s64",
      "userId": "17458985435588857896"
     },
     "user_tz": -330
    },
    "id": "Hl29t0WWl_VY",
    "outputId": "cc0e6704-f970-4049-dae6-12ea8ddf700e"
   },
   "outputs": [
    {
     "name": "stderr",
     "output_type": "stream",
     "text": [
      "C:\\Users\\anmol\\anaconda3\\lib\\site-packages\\seaborn\\_decorators.py:36: FutureWarning: Pass the following variables as keyword args: x, y. From version 0.12, the only valid positional argument will be `data`, and passing other arguments without an explicit keyword will result in an error or misinterpretation.\n",
      "  warnings.warn(\n"
     ]
    },
    {
     "data": {
      "text/plain": [
       "Text(0.5, 1.0, 'Count of Member and Casual Riders over the years')"
      ]
     },
     "execution_count": 50,
     "metadata": {},
     "output_type": "execute_result"
    },
    {
     "data": {
      "image/png": "[encoded data removed]",
      "text/plain": [
       "<Figure size 432x288 with 1 Axes>"
      ]
     },
     "metadata": {
      "needs_background": "light"
     },
     "output_type": "display_data"
    }
   ],
   "source": [
    "sns.barplot(list_x, list_y, hue = list_year)\n",
    "plt.title(\"Count of Member and Casual Riders over the years\")"
   ]
  },
  {
   "cell_type": "markdown",
   "metadata": {},
   "source": [
    "It has also been observed that the count of both annual and casual riders have decreased in the year 2021."
   ]
  },
  {
   "cell_type": "markdown",
   "metadata": {},
   "source": [
    "We would do some more analysis to see if there is trends in number of rides per month ."
   ]
  },
  {
   "cell_type": "code",
   "execution_count": 61,
   "metadata": {},
   "outputs": [
    {
     "data": {
      "text/plain": [
       "month  member_casual\n",
       "1      member            68819\n",
       "       casual            14690\n",
       "2      member            34383\n",
       "       casual             8613\n",
       "3      member           130049\n",
       "       casual            75642\n",
       "4      member           177787\n",
       "       casual           120420\n",
       "5      member           234165\n",
       "       casual           216829\n",
       "6      member           304586\n",
       "       casual           304192\n",
       "7      member           281692\n",
       "       casual           268733\n",
       "8      member           325504\n",
       "       casual           283006\n",
       "9      member           285090\n",
       "       casual           215300\n",
       "10     member           216493\n",
       "       casual           122810\n",
       "11     member           149756\n",
       "       casual            73033\n",
       "12     member            89359\n",
       "       casual            24552\n",
       "Name: member_casual, dtype: int64"
      ]
     },
     "execution_count": 61,
     "metadata": {},
     "output_type": "execute_result"
    }
   ],
   "source": [
    "#To check monthly trends in the users\n",
    "monthly_users = final_file.groupby(\"month\") ['member_casual'].value_counts()\n",
    "monthly_users"
   ]
  },
  {
   "cell_type": "code",
   "execution_count": 63,
   "metadata": {},
   "outputs": [
    {
     "data": {
      "text/plain": [
       "Text(0.5, 1.0, 'Count of Member and Casual Riders over the months')"
      ]
     },
     "execution_count": 63,
     "metadata": {},
     "output_type": "execute_result"
    },
    {
     "data": {
      "image/png": "[encoded data removed]",
      "text/plain": [
       "<Figure size 1296x576 with 1 Axes>"
      ]
     },
     "metadata": {
      "needs_background": "light"
     },
     "output_type": "display_data"
    }
   ],
   "source": [
    "plt.figure(figsize=(18,8))\n",
    "sns.countplot(x=\"member_casual\",hue=\"month\", data=final_file)\n",
    "plt.title(\"Count of Member and Casual Riders over the months\")"
   ]
  },
  {
   "cell_type": "raw",
   "metadata": {},
   "source": [
    "From the above plot it can be seen that the number of rides increase in the summer months (June-August) for both members and casual users. One of the reason seems Vacations and good weather."
   ]
  },
  {
   "cell_type": "raw",
   "metadata": {},
   "source": [
    "lets take a look the types of bikes used by the member users and casual members"
   ]
  },
  {
   "cell_type": "code",
   "execution_count": 54,
   "metadata": {
    "colab": {
     "base_uri": "https://localhost:8080/"
    },
    "executionInfo": {
     "elapsed": 1238,
     "status": "ok",
     "timestamp": 1629901550254,
     "user": {
      "displayName": "Pooja Mehta",
      "photoUrl": "https://lh3.googleusercontent.com/a-/AOh14GgyYC4Z21z3lv3B7ucXGY_5Q4zKBxx3R3ImdXJK=s64",
      "userId": "17458985435588857896"
     },
     "user_tz": -330
    },
    "id": "0lqRzGyHI91N",
    "outputId": "54120beb-3edc-4b38-ca38-f04737c90591"
   },
   "outputs": [
    {
     "data": {
      "text/plain": [
       "member_casual  rideable_type\n",
       "casual         docked_bike       969539\n",
       "               classic_bike      451826\n",
       "               electric_bike     306455\n",
       "member         docked_bike      1077368\n",
       "               classic_bike      823033\n",
       "               electric_bike     397282\n",
       "Name: rideable_type, dtype: int64"
      ]
     },
     "execution_count": 54,
     "metadata": {},
     "output_type": "execute_result"
    }
   ],
   "source": [
    "# To check the number of users for a particulat rideable_type\n",
    "ride_type = final_file.groupby(\"member_casual\")[\"rideable_type\"].value_counts()\n",
    "ride_type"
   ]
  },
  {
   "cell_type": "code",
   "execution_count": 65,
   "metadata": {},
   "outputs": [
    {
     "data": {
      "text/plain": [
       "Text(0.5, 1.0, 'Count of Member and casual rider on the basis of rideable_type')"
      ]
     },
     "execution_count": 65,
     "metadata": {},
     "output_type": "execute_result"
    },
    {
     "data": {
      "image/png": "[encoded data removed]",
      "text/plain": [
       "<Figure size 576x432 with 1 Axes>"
      ]
     },
     "metadata": {
      "needs_background": "light"
     },
     "output_type": "display_data"
    }
   ],
   "source": [
    "plt.figure(figsize=(8,6))\n",
    "sns.countplot(x=\"member_casual\", hue=\"rideable_type\", data=final_file)\n",
    "plt.ticklabel_format(style='plain', axis='y') # for removing #scientific notation\n",
    "plt.title(\"Count of Member and casual rider on the basis of rideable_type\")"
   ]
  },
  {
   "cell_type": "markdown",
   "metadata": {
    "executionInfo": {
     "elapsed": 7,
     "status": "ok",
     "timestamp": 1629901550256,
     "user": {
      "displayName": "Pooja Mehta",
      "photoUrl": "https://lh3.googleusercontent.com/a-/AOh14GgyYC4Z21z3lv3B7ucXGY_5Q4zKBxx3R3ImdXJK=s64",
      "userId": "17458985435588857896"
     },
     "user_tz": -330
    },
    "id": "ON6RC7_KqWKC"
   },
   "source": [
    "# Section-6 : Act"
   ]
  },
  {
   "cell_type": "markdown",
   "metadata": {},
   "source": [
    "As observed from the analyses, the number of casual riders is more than the number of annual membership holders. We can increase the fare of casual rides (which will help generate more revenue initially) and at the same time, reduce the cost of annual membership. This will pull more riders towards annual membership.\n",
    "\n",
    "The company can also give them some incentive to become loyal costumers through becoming annual member . Hopefully this would aim to see an increase in number of rides and also member subscriptions"
   ]
  },
  {
   "cell_type": "markdown",
   "metadata": {},
   "source": [
    "As observed, most of the casual riders ride on Fridays. We can hold special weekend discounts on annual membership to attract the customers. At the same time, we can offer a guarantee of bikes being available to annual membership holders on weekends, but the same can’t be guaranteed to casual riders."
   ]
  },
  {
   "cell_type": "markdown",
   "metadata": {},
   "source": [
    "As we noticed from the graph, on average, casual riders ride for approximately 47 mins. We can have a scheme like “more discounts on more miles” where the riders can get discounts like 10% on 10 more mins of ride, 20% on 20 more mins and so on. These discounts will be used against purchase of annual membership."
   ]
  },
  {
   "cell_type": "markdown",
   "metadata": {},
   "source": [
    "We can also smoothen the process of acquiring annual membership by making the whole process simple and completing it online too. On the other hand, casual riders should come to bike centers to get their bikes. This might pull some people towards annual membership, but in the long run, this will hurt the company’s image. So we should try not to fall for this dark/anti-pattern."
   ]
  },
  {
   "cell_type": "markdown",
   "metadata": {},
   "source": [
    "We have observed that approximately more than half of the casual members use Docker bikes for travelling, so we can offer special incentives in order to increase conversion from casual to annual."
   ]
  }
 ],
 "metadata": {
  "accelerator": "TPU",
  "colab": {
   "name": "GoogleCaseStudy_Cyclistic.ipynb",
   "provenance": []
  },
  "kernelspec": {
   "display_name": "Python 3",
   "language": "python",
   "name": "python3"
  },
  "language_info": {
   "codemirror_mode": {
    "name": "ipython",
    "version": 3
   },
   "file_extension": ".py",
   "mimetype": "text/x-python",
   "name": "python",
   "nbconvert_exporter": "python",
   "pygments_lexer": "ipython3",
   "version": "3.8.8"
  }
 },
 "nbformat": 4,
 "nbformat_minor": 1
}
